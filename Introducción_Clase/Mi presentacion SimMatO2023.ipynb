{
 "cells": [
  {
   "cell_type": "markdown",
   "id": "c95e8db1",
   "metadata": {},
   "source": [
    "# Mi presentación:\n",
    "\n",
    "Hola, me llamo **Gaddiel** tengo 32 años, mis hobbies son:\n",
    "\n",
    "* Tocar Gutarra\n",
    "* Videojuegos\n",
    "\n",
    "# Resumen del Artículo : \n",
    "\n",
    "[articulo](https://dzone.com/articles/formatting-api-error-codes-for-better-understandin).\n",
    "\n",
    "A well-designed error code format that follows industry standards not only enhances the clarity and readability of error messages but also facilitates troubleshooting and debugging processes. By adopting a structured and intuitive approach to error code formatting, developers can easily grasp the meaning of error codes, trace their origin, and take appropriate actions to address them\n",
    "\n",
    "![Mockup for feature A](https://media.wired.co.uk/photos/606d9a3ba876dd2203a639aa/16:9/w_1920,c_limit/wired-uk-google-watching.jpg)"
   ]
  },
  {
   "cell_type": "code",
   "execution_count": null,
   "id": "d76fe757",
   "metadata": {},
   "outputs": [],
   "source": []
  }
 ],
 "metadata": {
  "kernelspec": {
   "display_name": "Python 3 (ipykernel)",
   "language": "python",
   "name": "python3"
  },
  "language_info": {
   "codemirror_mode": {
    "name": "ipython",
    "version": 3
   },
   "file_extension": ".py",
   "mimetype": "text/x-python",
   "name": "python",
   "nbconvert_exporter": "python",
   "pygments_lexer": "ipython3",
   "version": "3.8.8"
  }
 },
 "nbformat": 4,
 "nbformat_minor": 5
}
