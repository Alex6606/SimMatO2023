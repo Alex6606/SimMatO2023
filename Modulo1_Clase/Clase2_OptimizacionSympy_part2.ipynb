{
 "cells": [
  {
   "cell_type": "markdown",
   "metadata": {},
   "source": [
    "\n",
    "<img style=\"float: left;;\" src='Figures/iteso.jpg' width=\"100\" height=\"200\"/></a>\n",
    "\n",
    "# <center> <font color= #000047> Optimización de funciones escalares diferenciables con `SymPy` </font> </center>\n",
    "\n"
   ]
  },
  {
   "cell_type": "markdown",
   "metadata": {},
   "source": [
    "\n",
    "<img style=\"float: right; margin: 0px 0px 15px 15px;\" src=\"https://upload.wikimedia.org/wikipedia/commons/thumb/b/b6/Extrema_example_es.svg/1200px-Extrema_example_es.svg.png\" width=\"300px\" height=\"100px\" />\n",
    "\n",
    "> - Mediante optimización se obtienen soluciones elegantes tanto en teoría como en ciertas aplicaciones. \n",
    "> - La teoría de optimización usa elementos comenzando con cálculo elemental y álgebra lineal básica, y luego se extiende con análisis funcional y convexo.\n",
    "> - Las aplicaciones en optimización involucran ciencia, ingeniería, economía, finanzas e industria.\n",
    "> - El amplio y creciente uso de la optimización lo hace escencial para estudiantes y profesionales de cualquier rama de la ciencia y la tecnología.\n",
    "\n",
    "**Referencia:**\n",
    "- http://www.math.uwaterloo.ca/~hwolkowi//henry/reports/talks.d/t06talks.d/06msribirs.d/optimportance.shtml"
   ]
  },
  {
   "cell_type": "markdown",
   "metadata": {},
   "source": [
    "<img style=\"float: right; margin: 0px 0px 15px 15px;\" src=\"https://upload.wikimedia.org/wikipedia/commons/thumb/e/e7/OpenStreetMap_routing_service.png/300px-OpenStreetMap_routing_service.png\" width=\"300px\" height=\"100px\" />\n",
    "\n",
    "Algunas aplicaciones son:\n",
    "\n",
    "1. Ingeniería\n",
    " - Encontrar la composición de equilibrio de una mezcla de diferentes átomos.\n",
    " - Planeación de ruta para un robot (o vehículo aéreo no tripulado).\n",
    " - Planeación de la mano de obra óptima en una construcción o planta de producción.\n",
    "2. Distribución óptima de recursos.\n",
    " - Distribución de rutas de vuelo.\n",
    " - Encontrar una dieta óptima.\n",
    " - Planeación de ruta óptima.\n",
    "3. Optimización financiera\n",
    " - Administración de riesgos.\n",
    " - Portafolios de inversión."
   ]
  },
  {
   "cell_type": "markdown",
   "metadata": {},
   "source": [
    "En esta clase veremos aspectos básicos de optimización. En específico, veremos cómo obtener máximos y mínimos de una función escalar de una variable (como en cálculo diferencial)."
   ]
  },
  {
   "cell_type": "markdown",
   "metadata": {},
   "source": [
    "___\n",
    "## 0. Librerías que usaremos\n",
    "\n",
    "Como ya dijimos en la primer clase `python` es el lenguaje de programación (el cual es de alto nivel). Sin embargo, `python` solo tiene unos pocos comandos primitivos y para hacer más fácil su uso en nuestras actividades de simulación en ingeniería, otras personas ya han escrito ciertas librerías por nosotros."
   ]
  },
  {
   "cell_type": "markdown",
   "metadata": {},
   "source": [
    "### 0.1 `NumPy`\n",
    "\n",
    "<img style=\"float: right; margin: 0px 0px 15px 15px;\" src=\"data:image/png;base64,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\" width=\"300px\" height=\"100px\" />\n",
    "\n",
    "`NumPy` (Numerical Python) es la librería fundamental para computación científica (numérica) con `Python`. Contiene, entre otras cosas:\n",
    "- un objeto tipo arreglo N-dimensional muy poderoso\n",
    "- funciones sofisticadas\n",
    "- funciones de álgebra lineal, transformada de Fourier y números aleatorios.\n",
    "\n",
    "Por lo anterior, `NumPy` es de amplio uso entre la comunidad científica e ingenieril (por su manejo de cantidades vectoriales). De la misma manera, se usa para guardar datos. Para nuestros propósitos, se puede usar libremente.\n",
    "\n",
    "**Referencia:**\n",
    "- http://www.numpy.org/"
   ]
  },
  {
   "cell_type": "markdown",
   "metadata": {},
   "source": [
    "`NumPy` ya viene incluido en la instalación estándar de Anaconda por defecto. Para comenzar a usarlo, solo debemos de importarlo:"
   ]
  },
  {
   "cell_type": "code",
   "execution_count": 1,
   "metadata": {},
   "outputs": [],
   "source": [
    "# importar la librería numpy\n",
    "import numpy as np"
   ]
  },
  {
   "cell_type": "code",
   "execution_count": null,
   "metadata": {},
   "outputs": [],
   "source": []
  },
  {
   "cell_type": "markdown",
   "metadata": {},
   "source": [
    "### 0.2 `SymPy`\n",
    "\n",
    "<img style=\"float: right; margin: 0px 0px 15px 15px;\" src=\"http://www.sympy.org/static/images/logo.png\" width=\"300px\" height=\"100px\" />\n",
    "\n",
    "`SymPy` (Symbolic Python) es una librería de `Python` para matemáticas simbólicas. Su objetivo es convertirse en un sistema de álgebra computacional con las mejores características, manteniendo el código lo más simple posible para que sea comprensible.\n",
    "\n",
    "**Referencia:**\n",
    "- http://www.sympy.org/en/index.html"
   ]
  },
  {
   "cell_type": "markdown",
   "metadata": {},
   "source": [
    "`SymPy` ya viene incluido en la instalación estándar de Anaconda por defecto. Para comenzar a usarlo, solo debemos de importarlo:"
   ]
  },
  {
   "cell_type": "code",
   "execution_count": 2,
   "metadata": {},
   "outputs": [],
   "source": [
    "# importar la librería sympy\n",
    "import sympy as sym"
   ]
  },
  {
   "cell_type": "markdown",
   "metadata": {},
   "source": [
    "$$ \\dot{x} = x + \\frac{1}{1-e^x}$$"
   ]
  },
  {
   "cell_type": "code",
   "execution_count": 4,
   "metadata": {},
   "outputs": [],
   "source": [
    "sym.init_printing(use_latex='mathjax')"
   ]
  },
  {
   "cell_type": "code",
   "execution_count": null,
   "metadata": {},
   "outputs": [],
   "source": []
  },
  {
   "cell_type": "markdown",
   "metadata": {},
   "source": [
    "$$y=f(x)=x^2$$"
   ]
  },
  {
   "cell_type": "markdown",
   "metadata": {},
   "source": [
    "La funcionalidad de imprimir en formato LaTex que nos da `SymPy` mediante el proyecto `mathjax` hace de `SymPy` una herramienta muy atractiva..."
   ]
  },
  {
   "cell_type": "markdown",
   "metadata": {},
   "source": [
    "Notar que en `SymPy` y en `NumPy` existen funciones con el mismo nombre, pero reciben tipos de datos diferentes..."
   ]
  },
  {
   "cell_type": "code",
   "execution_count": null,
   "metadata": {},
   "outputs": [],
   "source": [
    "# from sympy import *\n",
    "# from numpy import *\n",
    "# Esta práctica no es para nada recomendable."
   ]
  },
  {
   "cell_type": "code",
   "execution_count": 5,
   "metadata": {},
   "outputs": [
    {
     "data": {
      "text/latex": [
       "$\\displaystyle -7.34641020664359 \\cdot 10^{-6}$"
      ],
      "text/plain": [
       "-7.346410206643587e-06"
      ]
     },
     "execution_count": 5,
     "metadata": {},
     "output_type": "execute_result"
    }
   ],
   "source": [
    "np.sin(3.1416)"
   ]
  },
  {
   "cell_type": "code",
   "execution_count": 6,
   "metadata": {},
   "outputs": [
    {
     "data": {
      "text/latex": [
       "$\\displaystyle -7.34641020664359 \\cdot 10^{-6}$"
      ],
      "text/plain": [
       "-7.34641020664359e-6"
      ]
     },
     "execution_count": 6,
     "metadata": {},
     "output_type": "execute_result"
    }
   ],
   "source": [
    "sym.sin(3.1416)"
   ]
  },
  {
   "cell_type": "code",
   "execution_count": 8,
   "metadata": {},
   "outputs": [
    {
     "data": {
      "text/plain": [
       "array([0.84147098, 0.90929743, 0.14112001])"
      ]
     },
     "execution_count": 8,
     "metadata": {},
     "output_type": "execute_result"
    }
   ],
   "source": [
    "arr=np.array([1,2,3])\n",
    "np.sin(arr)"
   ]
  },
  {
   "cell_type": "code",
   "execution_count": 9,
   "metadata": {
    "scrolled": true
   },
   "outputs": [
    {
     "ename": "AttributeError",
     "evalue": "'ImmutableDenseNDimArray' object has no attribute 'could_extract_minus_sign'",
     "output_type": "error",
     "traceback": [
      "\u001b[1;31m---------------------------------------------------------------------------\u001b[0m",
      "\u001b[1;31mTypeError\u001b[0m                                 Traceback (most recent call last)",
      "\u001b[1;32mC:\\ProgramData\\Anaconda3\\lib\\site-packages\\sympy\\core\\cache.py\u001b[0m in \u001b[0;36mwrapper\u001b[1;34m(*args, **kwargs)\u001b[0m\n\u001b[0;32m     71\u001b[0m             \u001b[1;32mtry\u001b[0m\u001b[1;33m:\u001b[0m\u001b[1;33m\u001b[0m\u001b[1;33m\u001b[0m\u001b[0m\n\u001b[1;32m---> 72\u001b[1;33m                 \u001b[0mretval\u001b[0m \u001b[1;33m=\u001b[0m \u001b[0mcfunc\u001b[0m\u001b[1;33m(\u001b[0m\u001b[1;33m*\u001b[0m\u001b[0margs\u001b[0m\u001b[1;33m,\u001b[0m \u001b[1;33m**\u001b[0m\u001b[0mkwargs\u001b[0m\u001b[1;33m)\u001b[0m\u001b[1;33m\u001b[0m\u001b[1;33m\u001b[0m\u001b[0m\n\u001b[0m\u001b[0;32m     73\u001b[0m             \u001b[1;32mexcept\u001b[0m \u001b[0mTypeError\u001b[0m\u001b[1;33m:\u001b[0m\u001b[1;33m\u001b[0m\u001b[1;33m\u001b[0m\u001b[0m\n",
      "\u001b[1;31mTypeError\u001b[0m: unhashable type: 'numpy.ndarray'",
      "\nDuring handling of the above exception, another exception occurred:\n",
      "\u001b[1;31mTypeError\u001b[0m                                 Traceback (most recent call last)",
      "\u001b[1;32mC:\\ProgramData\\Anaconda3\\lib\\site-packages\\sympy\\core\\cache.py\u001b[0m in \u001b[0;36mwrapper\u001b[1;34m(*args, **kwargs)\u001b[0m\n\u001b[0;32m     71\u001b[0m             \u001b[1;32mtry\u001b[0m\u001b[1;33m:\u001b[0m\u001b[1;33m\u001b[0m\u001b[1;33m\u001b[0m\u001b[0m\n\u001b[1;32m---> 72\u001b[1;33m                 \u001b[0mretval\u001b[0m \u001b[1;33m=\u001b[0m \u001b[0mcfunc\u001b[0m\u001b[1;33m(\u001b[0m\u001b[1;33m*\u001b[0m\u001b[0margs\u001b[0m\u001b[1;33m,\u001b[0m \u001b[1;33m**\u001b[0m\u001b[0mkwargs\u001b[0m\u001b[1;33m)\u001b[0m\u001b[1;33m\u001b[0m\u001b[1;33m\u001b[0m\u001b[0m\n\u001b[0m\u001b[0;32m     73\u001b[0m             \u001b[1;32mexcept\u001b[0m \u001b[0mTypeError\u001b[0m\u001b[1;33m:\u001b[0m\u001b[1;33m\u001b[0m\u001b[1;33m\u001b[0m\u001b[0m\n",
      "\u001b[1;31mTypeError\u001b[0m: unhashable type: 'numpy.ndarray'",
      "\nDuring handling of the above exception, another exception occurred:\n",
      "\u001b[1;31mAttributeError\u001b[0m                            Traceback (most recent call last)",
      "\u001b[1;32m~\\AppData\\Local\\Temp/ipykernel_60852/2186412347.py\u001b[0m in \u001b[0;36m<module>\u001b[1;34m\u001b[0m\n\u001b[1;32m----> 1\u001b[1;33m \u001b[0msym\u001b[0m\u001b[1;33m.\u001b[0m\u001b[0msin\u001b[0m\u001b[1;33m(\u001b[0m\u001b[0marr\u001b[0m\u001b[1;33m)\u001b[0m\u001b[1;33m\u001b[0m\u001b[1;33m\u001b[0m\u001b[0m\n\u001b[0m",
      "\u001b[1;32mC:\\ProgramData\\Anaconda3\\lib\\site-packages\\sympy\\core\\cache.py\u001b[0m in \u001b[0;36mwrapper\u001b[1;34m(*args, **kwargs)\u001b[0m\n\u001b[0;32m     72\u001b[0m                 \u001b[0mretval\u001b[0m \u001b[1;33m=\u001b[0m \u001b[0mcfunc\u001b[0m\u001b[1;33m(\u001b[0m\u001b[1;33m*\u001b[0m\u001b[0margs\u001b[0m\u001b[1;33m,\u001b[0m \u001b[1;33m**\u001b[0m\u001b[0mkwargs\u001b[0m\u001b[1;33m)\u001b[0m\u001b[1;33m\u001b[0m\u001b[1;33m\u001b[0m\u001b[0m\n\u001b[0;32m     73\u001b[0m             \u001b[1;32mexcept\u001b[0m \u001b[0mTypeError\u001b[0m\u001b[1;33m:\u001b[0m\u001b[1;33m\u001b[0m\u001b[1;33m\u001b[0m\u001b[0m\n\u001b[1;32m---> 74\u001b[1;33m                 \u001b[0mretval\u001b[0m \u001b[1;33m=\u001b[0m \u001b[0mfunc\u001b[0m\u001b[1;33m(\u001b[0m\u001b[1;33m*\u001b[0m\u001b[0margs\u001b[0m\u001b[1;33m,\u001b[0m \u001b[1;33m**\u001b[0m\u001b[0mkwargs\u001b[0m\u001b[1;33m)\u001b[0m\u001b[1;33m\u001b[0m\u001b[1;33m\u001b[0m\u001b[0m\n\u001b[0m\u001b[0;32m     75\u001b[0m             \u001b[1;32mreturn\u001b[0m \u001b[0mretval\u001b[0m\u001b[1;33m\u001b[0m\u001b[1;33m\u001b[0m\u001b[0m\n\u001b[0;32m     76\u001b[0m \u001b[1;33m\u001b[0m\u001b[0m\n",
      "\u001b[1;32mC:\\ProgramData\\Anaconda3\\lib\\site-packages\\sympy\\core\\function.py\u001b[0m in \u001b[0;36m__new__\u001b[1;34m(cls, *args, **options)\u001b[0m\n\u001b[0;32m    471\u001b[0m \u001b[1;33m\u001b[0m\u001b[0m\n\u001b[0;32m    472\u001b[0m         \u001b[0mevaluate\u001b[0m \u001b[1;33m=\u001b[0m \u001b[0moptions\u001b[0m\u001b[1;33m.\u001b[0m\u001b[0mget\u001b[0m\u001b[1;33m(\u001b[0m\u001b[1;34m'evaluate'\u001b[0m\u001b[1;33m,\u001b[0m \u001b[0mglobal_parameters\u001b[0m\u001b[1;33m.\u001b[0m\u001b[0mevaluate\u001b[0m\u001b[1;33m)\u001b[0m\u001b[1;33m\u001b[0m\u001b[1;33m\u001b[0m\u001b[0m\n\u001b[1;32m--> 473\u001b[1;33m         \u001b[0mresult\u001b[0m \u001b[1;33m=\u001b[0m \u001b[0msuper\u001b[0m\u001b[1;33m(\u001b[0m\u001b[1;33m)\u001b[0m\u001b[1;33m.\u001b[0m\u001b[0m__new__\u001b[0m\u001b[1;33m(\u001b[0m\u001b[0mcls\u001b[0m\u001b[1;33m,\u001b[0m \u001b[1;33m*\u001b[0m\u001b[0margs\u001b[0m\u001b[1;33m,\u001b[0m \u001b[1;33m**\u001b[0m\u001b[0moptions\u001b[0m\u001b[1;33m)\u001b[0m\u001b[1;33m\u001b[0m\u001b[1;33m\u001b[0m\u001b[0m\n\u001b[0m\u001b[0;32m    474\u001b[0m         \u001b[1;32mif\u001b[0m \u001b[0mevaluate\u001b[0m \u001b[1;32mand\u001b[0m \u001b[0misinstance\u001b[0m\u001b[1;33m(\u001b[0m\u001b[0mresult\u001b[0m\u001b[1;33m,\u001b[0m \u001b[0mcls\u001b[0m\u001b[1;33m)\u001b[0m \u001b[1;32mand\u001b[0m \u001b[0mresult\u001b[0m\u001b[1;33m.\u001b[0m\u001b[0margs\u001b[0m\u001b[1;33m:\u001b[0m\u001b[1;33m\u001b[0m\u001b[1;33m\u001b[0m\u001b[0m\n\u001b[0;32m    475\u001b[0m             \u001b[0mpr2\u001b[0m \u001b[1;33m=\u001b[0m \u001b[0mmin\u001b[0m\u001b[1;33m(\u001b[0m\u001b[0mcls\u001b[0m\u001b[1;33m.\u001b[0m\u001b[0m_should_evalf\u001b[0m\u001b[1;33m(\u001b[0m\u001b[0ma\u001b[0m\u001b[1;33m)\u001b[0m \u001b[1;32mfor\u001b[0m \u001b[0ma\u001b[0m \u001b[1;32min\u001b[0m \u001b[0mresult\u001b[0m\u001b[1;33m.\u001b[0m\u001b[0margs\u001b[0m\u001b[1;33m)\u001b[0m\u001b[1;33m\u001b[0m\u001b[1;33m\u001b[0m\u001b[0m\n",
      "\u001b[1;32mC:\\ProgramData\\Anaconda3\\lib\\site-packages\\sympy\\core\\cache.py\u001b[0m in \u001b[0;36mwrapper\u001b[1;34m(*args, **kwargs)\u001b[0m\n\u001b[0;32m     72\u001b[0m                 \u001b[0mretval\u001b[0m \u001b[1;33m=\u001b[0m \u001b[0mcfunc\u001b[0m\u001b[1;33m(\u001b[0m\u001b[1;33m*\u001b[0m\u001b[0margs\u001b[0m\u001b[1;33m,\u001b[0m \u001b[1;33m**\u001b[0m\u001b[0mkwargs\u001b[0m\u001b[1;33m)\u001b[0m\u001b[1;33m\u001b[0m\u001b[1;33m\u001b[0m\u001b[0m\n\u001b[0;32m     73\u001b[0m             \u001b[1;32mexcept\u001b[0m \u001b[0mTypeError\u001b[0m\u001b[1;33m:\u001b[0m\u001b[1;33m\u001b[0m\u001b[1;33m\u001b[0m\u001b[0m\n\u001b[1;32m---> 74\u001b[1;33m                 \u001b[0mretval\u001b[0m \u001b[1;33m=\u001b[0m \u001b[0mfunc\u001b[0m\u001b[1;33m(\u001b[0m\u001b[1;33m*\u001b[0m\u001b[0margs\u001b[0m\u001b[1;33m,\u001b[0m \u001b[1;33m**\u001b[0m\u001b[0mkwargs\u001b[0m\u001b[1;33m)\u001b[0m\u001b[1;33m\u001b[0m\u001b[1;33m\u001b[0m\u001b[0m\n\u001b[0m\u001b[0;32m     75\u001b[0m             \u001b[1;32mreturn\u001b[0m \u001b[0mretval\u001b[0m\u001b[1;33m\u001b[0m\u001b[1;33m\u001b[0m\u001b[0m\n\u001b[0;32m     76\u001b[0m \u001b[1;33m\u001b[0m\u001b[0m\n",
      "\u001b[1;32mC:\\ProgramData\\Anaconda3\\lib\\site-packages\\sympy\\core\\function.py\u001b[0m in \u001b[0;36m__new__\u001b[1;34m(cls, *args, **options)\u001b[0m\n\u001b[0;32m    283\u001b[0m \u001b[1;33m\u001b[0m\u001b[0m\n\u001b[0;32m    284\u001b[0m         \u001b[1;32mif\u001b[0m \u001b[0mevaluate\u001b[0m\u001b[1;33m:\u001b[0m\u001b[1;33m\u001b[0m\u001b[1;33m\u001b[0m\u001b[0m\n\u001b[1;32m--> 285\u001b[1;33m             \u001b[0mevaluated\u001b[0m \u001b[1;33m=\u001b[0m \u001b[0mcls\u001b[0m\u001b[1;33m.\u001b[0m\u001b[0meval\u001b[0m\u001b[1;33m(\u001b[0m\u001b[1;33m*\u001b[0m\u001b[0margs\u001b[0m\u001b[1;33m)\u001b[0m\u001b[1;33m\u001b[0m\u001b[1;33m\u001b[0m\u001b[0m\n\u001b[0m\u001b[0;32m    286\u001b[0m             \u001b[1;32mif\u001b[0m \u001b[0mevaluated\u001b[0m \u001b[1;32mis\u001b[0m \u001b[1;32mnot\u001b[0m \u001b[1;32mNone\u001b[0m\u001b[1;33m:\u001b[0m\u001b[1;33m\u001b[0m\u001b[1;33m\u001b[0m\u001b[0m\n\u001b[0;32m    287\u001b[0m                 \u001b[1;32mreturn\u001b[0m \u001b[0mevaluated\u001b[0m\u001b[1;33m\u001b[0m\u001b[1;33m\u001b[0m\u001b[0m\n",
      "\u001b[1;32mC:\\ProgramData\\Anaconda3\\lib\\site-packages\\sympy\\functions\\elementary\\trigonometric.py\u001b[0m in \u001b[0;36meval\u001b[1;34m(cls, arg)\u001b[0m\n\u001b[0;32m    303\u001b[0m             \u001b[1;32mreturn\u001b[0m \u001b[0marg\u001b[0m\u001b[1;33m.\u001b[0m\u001b[0m_eval_func\u001b[0m\u001b[1;33m(\u001b[0m\u001b[0mcls\u001b[0m\u001b[1;33m)\u001b[0m\u001b[1;33m\u001b[0m\u001b[1;33m\u001b[0m\u001b[0m\n\u001b[0;32m    304\u001b[0m \u001b[1;33m\u001b[0m\u001b[0m\n\u001b[1;32m--> 305\u001b[1;33m         \u001b[1;32mif\u001b[0m \u001b[0marg\u001b[0m\u001b[1;33m.\u001b[0m\u001b[0mcould_extract_minus_sign\u001b[0m\u001b[1;33m(\u001b[0m\u001b[1;33m)\u001b[0m\u001b[1;33m:\u001b[0m\u001b[1;33m\u001b[0m\u001b[1;33m\u001b[0m\u001b[0m\n\u001b[0m\u001b[0;32m    306\u001b[0m             \u001b[1;32mreturn\u001b[0m \u001b[1;33m-\u001b[0m\u001b[0mcls\u001b[0m\u001b[1;33m(\u001b[0m\u001b[1;33m-\u001b[0m\u001b[0marg\u001b[0m\u001b[1;33m)\u001b[0m\u001b[1;33m\u001b[0m\u001b[1;33m\u001b[0m\u001b[0m\n\u001b[0;32m    307\u001b[0m \u001b[1;33m\u001b[0m\u001b[0m\n",
      "\u001b[1;31mAttributeError\u001b[0m: 'ImmutableDenseNDimArray' object has no attribute 'could_extract_minus_sign'"
     ]
    }
   ],
   "source": [
    "sym.sin(arr)"
   ]
  },
  {
   "cell_type": "markdown",
   "metadata": {},
   "source": [
    "### 0.3 `PyPlot` de `matplotlib`\n",
    "\n",
    "<img style=\"float: right; margin: 0px 0px 15px 15px;\" src=\"https://matplotlib.org/_static/logo2.svg\" width=\"300px\" height=\"100px\" />\n",
    "\n",
    "El módulo `PyPlot` de la librería `matplotlib` contiene funciones que nos permite generar una gran cantidad de gráficas rápidamente. Las funciones de este módulo están escritas con el mismo nombre que las funciones para graficar en `Matlab`.\n",
    "\n",
    "**Referencia:**\n",
    "- https://matplotlib.org/api/pyplot_summary.html"
   ]
  },
  {
   "cell_type": "code",
   "execution_count": 10,
   "metadata": {},
   "outputs": [],
   "source": [
    "# importar matplotlib.pyplot\n",
    "import matplotlib.pyplot as plt\n",
    "# Lo siguiente es equivalente\n",
    "# from matplotlib import pyplot as plt\n",
    "# comando para que las gráficas salgan en la misma ventana\n",
    "%matplotlib inline"
   ]
  },
  {
   "cell_type": "code",
   "execution_count": 12,
   "metadata": {},
   "outputs": [],
   "source": [
    "x = np.linspace(0,100)\n",
    "y = np.sin(x)"
   ]
  },
  {
   "cell_type": "code",
   "execution_count": 14,
   "metadata": {},
   "outputs": [
    {
     "data": {
      "image/png": "[encoded data removed]",
      "text/plain": [
       "<Figure size 432x288 with 1 Axes>"
      ]
     },
     "metadata": {
      "needs_background": "light"
     },
     "output_type": "display_data"
    }
   ],
   "source": [
    "plt.figure(figsize=(6,4))\n",
    "plt.plot(x,y,'-r')\n",
    "plt.show()"
   ]
  },
  {
   "cell_type": "markdown",
   "metadata": {},
   "source": [
    "Ya que revisamos todas las librerías que usaremos, empecemos con la clase como tal..."
   ]
  },
  {
   "cell_type": "markdown",
   "metadata": {},
   "source": [
    "___\n",
    "Basamos todos los resultados en los siguientes teoremas:"
   ]
  },
  {
   "cell_type": "markdown",
   "metadata": {},
   "source": [
    "## 1. Teorema de Fermat (análisis)\n",
    "\n",
    "Si una función $f(x)$ alcanza un máximo o mínimo local en $x=c$, y si la derivada $f'(c)$ existe en el punto $c$, entonces $f'(c) = 0$."
   ]
  },
  {
   "cell_type": "markdown",
   "metadata": {},
   "source": [
    "### Ejemplo\n",
    "\n",
    "Sabemos que la función $f(x)=x^2$ tiene un mínimo global en $x=0$, pues\n",
    "\n",
    "$$f(x)=x^2\\geq0,\\qquad\\text{y}\\qquad f(x)=x^2=0 \\qquad\\text{si y solo si}\\qquad x=0.$$"
   ]
  },
  {
   "cell_type": "code",
   "execution_count": 15,
   "metadata": {},
   "outputs": [
    {
     "data": {
      "text/latex": [
       "$\\displaystyle x$"
      ],
      "text/plain": [
       "x"
      ]
     },
     "execution_count": 15,
     "metadata": {},
     "output_type": "execute_result"
    }
   ],
   "source": [
    "# declarar la variable real x\n",
    "sym.var('x')"
   ]
  },
  {
   "cell_type": "code",
   "execution_count": 16,
   "metadata": {},
   "outputs": [
    {
     "data": {
      "text/latex": [
       "$\\displaystyle x^{2}$"
      ],
      "text/plain": [
       " 2\n",
       "x "
      ]
     },
     "execution_count": 16,
     "metadata": {},
     "output_type": "execute_result"
    }
   ],
   "source": [
    "# declarar ahora f=x^2 y mostrar\n",
    "f = x**2\n",
    "f"
   ]
  },
  {
   "cell_type": "code",
   "execution_count": 17,
   "metadata": {},
   "outputs": [
    {
     "data": {
      "text/latex": [
       "$\\displaystyle 2 x$"
      ],
      "text/plain": [
       "2⋅x"
      ]
     },
     "execution_count": 17,
     "metadata": {},
     "output_type": "execute_result"
    }
   ],
   "source": [
    "# derivar f respecto a x y mostrar\n",
    "df = sym.diff(f,x)\n",
    "df"
   ]
  },
  {
   "cell_type": "code",
   "execution_count": 18,
   "metadata": {},
   "outputs": [
    {
     "name": "stdout",
     "output_type": "stream",
     "text": [
      "Help on function solve in module sympy.solvers.solvers:\n",
      "\n",
      "solve(f, *symbols, **flags)\n",
      "    Algebraically solves equations and systems of equations.\n",
      "    \n",
      "    Explanation\n",
      "    ===========\n",
      "    \n",
      "    Currently supported:\n",
      "        - polynomial\n",
      "        - transcendental\n",
      "        - piecewise combinations of the above\n",
      "        - systems of linear and polynomial equations\n",
      "        - systems containing relational expressions\n",
      "    \n",
      "    Examples\n",
      "    ========\n",
      "    \n",
      "    The output varies according to the input and can be seen by example:\n",
      "    \n",
      "        >>> from sympy import solve, Poly, Eq, Function, exp\n",
      "        >>> from sympy.abc import x, y, z, a, b\n",
      "        >>> f = Function('f')\n",
      "    \n",
      "    Boolean or univariate Relational:\n",
      "    \n",
      "        >>> solve(x < 3)\n",
      "        (-oo < x) & (x < 3)\n",
      "    \n",
      "    \n",
      "    To always get a list of solution mappings, use flag dict=True:\n",
      "    \n",
      "        >>> solve(x - 3, dict=True)\n",
      "        [{x: 3}]\n",
      "        >>> sol = solve([x - 3, y - 1], dict=True)\n",
      "        >>> sol\n",
      "        [{x: 3, y: 1}]\n",
      "        >>> sol[0][x]\n",
      "        3\n",
      "        >>> sol[0][y]\n",
      "        1\n",
      "    \n",
      "    \n",
      "    To get a list of *symbols* and set of solution(s) use flag set=True:\n",
      "    \n",
      "        >>> solve([x**2 - 3, y - 1], set=True)\n",
      "        ([x, y], {(-sqrt(3), 1), (sqrt(3), 1)})\n",
      "    \n",
      "    \n",
      "    Single expression and single symbol that is in the expression:\n",
      "    \n",
      "        >>> solve(x - y, x)\n",
      "        [y]\n",
      "        >>> solve(x - 3, x)\n",
      "        [3]\n",
      "        >>> solve(Eq(x, 3), x)\n",
      "        [3]\n",
      "        >>> solve(Poly(x - 3), x)\n",
      "        [3]\n",
      "        >>> solve(x**2 - y**2, x, set=True)\n",
      "        ([x], {(-y,), (y,)})\n",
      "        >>> solve(x**4 - 1, x, set=True)\n",
      "        ([x], {(-1,), (1,), (-I,), (I,)})\n",
      "    \n",
      "    Single expression with no symbol that is in the expression:\n",
      "    \n",
      "        >>> solve(3, x)\n",
      "        []\n",
      "        >>> solve(x - 3, y)\n",
      "        []\n",
      "    \n",
      "    Single expression with no symbol given. In this case, all free *symbols*\n",
      "    will be selected as potential *symbols* to solve for. If the equation is\n",
      "    univariate then a list of solutions is returned; otherwise - as is the case\n",
      "    when *symbols* are given as an iterable of length greater than 1 - a list of\n",
      "    mappings will be returned:\n",
      "    \n",
      "        >>> solve(x - 3)\n",
      "        [3]\n",
      "        >>> solve(x**2 - y**2)\n",
      "        [{x: -y}, {x: y}]\n",
      "        >>> solve(z**2*x**2 - z**2*y**2)\n",
      "        [{x: -y}, {x: y}, {z: 0}]\n",
      "        >>> solve(z**2*x - z**2*y**2)\n",
      "        [{x: y**2}, {z: 0}]\n",
      "    \n",
      "    When an object other than a Symbol is given as a symbol, it is\n",
      "    isolated algebraically and an implicit solution may be obtained.\n",
      "    This is mostly provided as a convenience to save you from replacing\n",
      "    the object with a Symbol and solving for that Symbol. It will only\n",
      "    work if the specified object can be replaced with a Symbol using the\n",
      "    subs method:\n",
      "    \n",
      "    >>> solve(f(x) - x, f(x))\n",
      "    [x]\n",
      "    >>> solve(f(x).diff(x) - f(x) - x, f(x).diff(x))\n",
      "    [x + f(x)]\n",
      "    >>> solve(f(x).diff(x) - f(x) - x, f(x))\n",
      "    [-x + Derivative(f(x), x)]\n",
      "    >>> solve(x + exp(x)**2, exp(x), set=True)\n",
      "    ([exp(x)], {(-sqrt(-x),), (sqrt(-x),)})\n",
      "    \n",
      "    >>> from sympy import Indexed, IndexedBase, Tuple, sqrt\n",
      "    >>> A = IndexedBase('A')\n",
      "    >>> eqs = Tuple(A[1] + A[2] - 3, A[1] - A[2] + 1)\n",
      "    >>> solve(eqs, eqs.atoms(Indexed))\n",
      "    {A[1]: 1, A[2]: 2}\n",
      "    \n",
      "        * To solve for a symbol implicitly, use implicit=True:\n",
      "    \n",
      "            >>> solve(x + exp(x), x)\n",
      "            [-LambertW(1)]\n",
      "            >>> solve(x + exp(x), x, implicit=True)\n",
      "            [-exp(x)]\n",
      "    \n",
      "        * It is possible to solve for anything that can be targeted with\n",
      "          subs:\n",
      "    \n",
      "            >>> solve(x + 2 + sqrt(3), x + 2)\n",
      "            [-sqrt(3)]\n",
      "            >>> solve((x + 2 + sqrt(3), x + 4 + y), y, x + 2)\n",
      "            {y: -2 + sqrt(3), x + 2: -sqrt(3)}\n",
      "    \n",
      "        * Nothing heroic is done in this implicit solving so you may end up\n",
      "          with a symbol still in the solution:\n",
      "    \n",
      "            >>> eqs = (x*y + 3*y + sqrt(3), x + 4 + y)\n",
      "            >>> solve(eqs, y, x + 2)\n",
      "            {y: -sqrt(3)/(x + 3), x + 2: -2*x/(x + 3) - 6/(x + 3) + sqrt(3)/(x + 3)}\n",
      "            >>> solve(eqs, y*x, x)\n",
      "            {x: -y - 4, x*y: -3*y - sqrt(3)}\n",
      "    \n",
      "        * If you attempt to solve for a number remember that the number\n",
      "          you have obtained does not necessarily mean that the value is\n",
      "          equivalent to the expression obtained:\n",
      "    \n",
      "            >>> solve(sqrt(2) - 1, 1)\n",
      "            [sqrt(2)]\n",
      "            >>> solve(x - y + 1, 1)  # /!\\ -1 is targeted, too\n",
      "            [x/(y - 1)]\n",
      "            >>> [_.subs(z, -1) for _ in solve((x - y + 1).subs(-1, z), 1)]\n",
      "            [-x + y]\n",
      "    \n",
      "        * To solve for a function within a derivative, use ``dsolve``.\n",
      "    \n",
      "    Single expression and more than one symbol:\n",
      "    \n",
      "        * When there is a linear solution:\n",
      "    \n",
      "            >>> solve(x - y**2, x, y)\n",
      "            [(y**2, y)]\n",
      "            >>> solve(x**2 - y, x, y)\n",
      "            [(x, x**2)]\n",
      "            >>> solve(x**2 - y, x, y, dict=True)\n",
      "            [{y: x**2}]\n",
      "    \n",
      "        * When undetermined coefficients are identified:\n",
      "    \n",
      "            * That are linear:\n",
      "    \n",
      "                >>> solve((a + b)*x - b + 2, a, b)\n",
      "                {a: -2, b: 2}\n",
      "    \n",
      "            * That are nonlinear:\n",
      "    \n",
      "                >>> solve((a + b)*x - b**2 + 2, a, b, set=True)\n",
      "                ([a, b], {(-sqrt(2), sqrt(2)), (sqrt(2), -sqrt(2))})\n",
      "    \n",
      "        * If there is no linear solution, then the first successful\n",
      "          attempt for a nonlinear solution will be returned:\n",
      "    \n",
      "            >>> solve(x**2 - y**2, x, y, dict=True)\n",
      "            [{x: -y}, {x: y}]\n",
      "            >>> solve(x**2 - y**2/exp(x), x, y, dict=True)\n",
      "            [{x: 2*LambertW(-y/2)}, {x: 2*LambertW(y/2)}]\n",
      "            >>> solve(x**2 - y**2/exp(x), y, x)\n",
      "            [(-x*sqrt(exp(x)), x), (x*sqrt(exp(x)), x)]\n",
      "    \n",
      "    Iterable of one or more of the above:\n",
      "    \n",
      "        * Involving relationals or bools:\n",
      "    \n",
      "            >>> solve([x < 3, x - 2])\n",
      "            Eq(x, 2)\n",
      "            >>> solve([x > 3, x - 2])\n",
      "            False\n",
      "    \n",
      "        * When the system is linear:\n",
      "    \n",
      "            * With a solution:\n",
      "    \n",
      "                >>> solve([x - 3], x)\n",
      "                {x: 3}\n",
      "                >>> solve((x + 5*y - 2, -3*x + 6*y - 15), x, y)\n",
      "                {x: -3, y: 1}\n",
      "                >>> solve((x + 5*y - 2, -3*x + 6*y - 15), x, y, z)\n",
      "                {x: -3, y: 1}\n",
      "                >>> solve((x + 5*y - 2, -3*x + 6*y - z), z, x, y)\n",
      "                {x: 2 - 5*y, z: 21*y - 6}\n",
      "    \n",
      "            * Without a solution:\n",
      "    \n",
      "                >>> solve([x + 3, x - 3])\n",
      "                []\n",
      "    \n",
      "        * When the system is not linear:\n",
      "    \n",
      "            >>> solve([x**2 + y -2, y**2 - 4], x, y, set=True)\n",
      "            ([x, y], {(-2, -2), (0, 2), (2, -2)})\n",
      "    \n",
      "        * If no *symbols* are given, all free *symbols* will be selected and a\n",
      "          list of mappings returned:\n",
      "    \n",
      "            >>> solve([x - 2, x**2 + y])\n",
      "            [{x: 2, y: -4}]\n",
      "            >>> solve([x - 2, x**2 + f(x)], {f(x), x})\n",
      "            [{x: 2, f(x): -4}]\n",
      "    \n",
      "        * If any equation does not depend on the symbol(s) given, it will be\n",
      "          eliminated from the equation set and an answer may be given\n",
      "          implicitly in terms of variables that were not of interest:\n",
      "    \n",
      "            >>> solve([x - y, y - 3], x)\n",
      "            {x: y}\n",
      "    \n",
      "    **Additional Examples**\n",
      "    \n",
      "    ``solve()`` with check=True (default) will run through the symbol tags to\n",
      "    elimate unwanted solutions. If no assumptions are included, all possible\n",
      "    solutions will be returned:\n",
      "    \n",
      "        >>> from sympy import Symbol, solve\n",
      "        >>> x = Symbol(\"x\")\n",
      "        >>> solve(x**2 - 1)\n",
      "        [-1, 1]\n",
      "    \n",
      "    By using the positive tag, only one solution will be returned:\n",
      "    \n",
      "        >>> pos = Symbol(\"pos\", positive=True)\n",
      "        >>> solve(pos**2 - 1)\n",
      "        [1]\n",
      "    \n",
      "    Assumptions are not checked when ``solve()`` input involves\n",
      "    relationals or bools.\n",
      "    \n",
      "    When the solutions are checked, those that make any denominator zero\n",
      "    are automatically excluded. If you do not want to exclude such solutions,\n",
      "    then use the check=False option:\n",
      "    \n",
      "        >>> from sympy import sin, limit\n",
      "        >>> solve(sin(x)/x)  # 0 is excluded\n",
      "        [pi]\n",
      "    \n",
      "    If check=False, then a solution to the numerator being zero is found: x = 0.\n",
      "    In this case, this is a spurious solution since $\\sin(x)/x$ has the well\n",
      "    known limit (without dicontinuity) of 1 at x = 0:\n",
      "    \n",
      "        >>> solve(sin(x)/x, check=False)\n",
      "        [0, pi]\n",
      "    \n",
      "    In the following case, however, the limit exists and is equal to the\n",
      "    value of x = 0 that is excluded when check=True:\n",
      "    \n",
      "        >>> eq = x**2*(1/x - z**2/x)\n",
      "        >>> solve(eq, x)\n",
      "        []\n",
      "        >>> solve(eq, x, check=False)\n",
      "        [0]\n",
      "        >>> limit(eq, x, 0, '-')\n",
      "        0\n",
      "        >>> limit(eq, x, 0, '+')\n",
      "        0\n",
      "    \n",
      "    **Disabling High-Order Explicit Solutions**\n",
      "    \n",
      "    When solving polynomial expressions, you might not want explicit solutions\n",
      "    (which can be quite long). If the expression is univariate, ``CRootOf``\n",
      "    instances will be returned instead:\n",
      "    \n",
      "        >>> solve(x**3 - x + 1)\n",
      "        [-1/((-1/2 - sqrt(3)*I/2)*(3*sqrt(69)/2 + 27/2)**(1/3)) - (-1/2 -\n",
      "        sqrt(3)*I/2)*(3*sqrt(69)/2 + 27/2)**(1/3)/3, -(-1/2 +\n",
      "        sqrt(3)*I/2)*(3*sqrt(69)/2 + 27/2)**(1/3)/3 - 1/((-1/2 +\n",
      "        sqrt(3)*I/2)*(3*sqrt(69)/2 + 27/2)**(1/3)), -(3*sqrt(69)/2 +\n",
      "        27/2)**(1/3)/3 - 1/(3*sqrt(69)/2 + 27/2)**(1/3)]\n",
      "        >>> solve(x**3 - x + 1, cubics=False)\n",
      "        [CRootOf(x**3 - x + 1, 0),\n",
      "         CRootOf(x**3 - x + 1, 1),\n",
      "         CRootOf(x**3 - x + 1, 2)]\n",
      "    \n",
      "    If the expression is multivariate, no solution might be returned:\n",
      "    \n",
      "        >>> solve(x**3 - x + a, x, cubics=False)\n",
      "        []\n",
      "    \n",
      "    Sometimes solutions will be obtained even when a flag is False because the\n",
      "    expression could be factored. In the following example, the equation can\n",
      "    be factored as the product of a linear and a quadratic factor so explicit\n",
      "    solutions (which did not require solving a cubic expression) are obtained:\n",
      "    \n",
      "        >>> eq = x**3 + 3*x**2 + x - 1\n",
      "        >>> solve(eq, cubics=False)\n",
      "        [-1, -1 + sqrt(2), -sqrt(2) - 1]\n",
      "    \n",
      "    **Solving Equations Involving Radicals**\n",
      "    \n",
      "    Because of SymPy's use of the principle root, some solutions\n",
      "    to radical equations will be missed unless check=False:\n",
      "    \n",
      "        >>> from sympy import root\n",
      "        >>> eq = root(x**3 - 3*x**2, 3) + 1 - x\n",
      "        >>> solve(eq)\n",
      "        []\n",
      "        >>> solve(eq, check=False)\n",
      "        [1/3]\n",
      "    \n",
      "    In the above example, there is only a single solution to the\n",
      "    equation. Other expressions will yield spurious roots which\n",
      "    must be checked manually; roots which give a negative argument\n",
      "    to odd-powered radicals will also need special checking:\n",
      "    \n",
      "        >>> from sympy import real_root, S\n",
      "        >>> eq = root(x, 3) - root(x, 5) + S(1)/7\n",
      "        >>> solve(eq)  # this gives 2 solutions but misses a 3rd\n",
      "        [CRootOf(7*x**5 - 7*x**3 + 1, 1)**15,\n",
      "        CRootOf(7*x**5 - 7*x**3 + 1, 2)**15]\n",
      "        >>> sol = solve(eq, check=False)\n",
      "        >>> [abs(eq.subs(x,i).n(2)) for i in sol]\n",
      "        [0.48, 0.e-110, 0.e-110, 0.052, 0.052]\n",
      "    \n",
      "    The first solution is negative so ``real_root`` must be used to see that it\n",
      "    satisfies the expression:\n",
      "    \n",
      "        >>> abs(real_root(eq.subs(x, sol[0])).n(2))\n",
      "        0.e-110\n",
      "    \n",
      "    If the roots of the equation are not real then more care will be\n",
      "    necessary to find the roots, especially for higher order equations.\n",
      "    Consider the following expression:\n",
      "    \n",
      "        >>> expr = root(x, 3) - root(x, 5)\n",
      "    \n",
      "    We will construct a known value for this expression at x = 3 by selecting\n",
      "    the 1-th root for each radical:\n",
      "    \n",
      "        >>> expr1 = root(x, 3, 1) - root(x, 5, 1)\n",
      "        >>> v = expr1.subs(x, -3)\n",
      "    \n",
      "    The ``solve`` function is unable to find any exact roots to this equation:\n",
      "    \n",
      "        >>> eq = Eq(expr, v); eq1 = Eq(expr1, v)\n",
      "        >>> solve(eq, check=False), solve(eq1, check=False)\n",
      "        ([], [])\n",
      "    \n",
      "    The function ``unrad``, however, can be used to get a form of the equation\n",
      "    for which numerical roots can be found:\n",
      "    \n",
      "        >>> from sympy.solvers.solvers import unrad\n",
      "        >>> from sympy import nroots\n",
      "        >>> e, (p, cov) = unrad(eq)\n",
      "        >>> pvals = nroots(e)\n",
      "        >>> inversion = solve(cov, x)[0]\n",
      "        >>> xvals = [inversion.subs(p, i) for i in pvals]\n",
      "    \n",
      "    Although ``eq`` or ``eq1`` could have been used to find ``xvals``, the\n",
      "    solution can only be verified with ``expr1``:\n",
      "    \n",
      "        >>> z = expr - v\n",
      "        >>> [xi.n(chop=1e-9) for xi in xvals if abs(z.subs(x, xi).n()) < 1e-9]\n",
      "        []\n",
      "        >>> z1 = expr1 - v\n",
      "        >>> [xi.n(chop=1e-9) for xi in xvals if abs(z1.subs(x, xi).n()) < 1e-9]\n",
      "        [-3.0]\n",
      "    \n",
      "    Parameters\n",
      "    ==========\n",
      "    \n",
      "    f :\n",
      "        - a single Expr or Poly that must be zero\n",
      "        - an Equality\n",
      "        - a Relational expression\n",
      "        - a Boolean\n",
      "        - iterable of one or more of the above\n",
      "    \n",
      "    symbols : (object(s) to solve for) specified as\n",
      "        - none given (other non-numeric objects will be used)\n",
      "        - single symbol\n",
      "        - denested list of symbols\n",
      "          (e.g., ``solve(f, x, y)``)\n",
      "        - ordered iterable of symbols\n",
      "          (e.g., ``solve(f, [x, y])``)\n",
      "    \n",
      "    flags :\n",
      "        dict=True (default is False)\n",
      "            Return list (perhaps empty) of solution mappings.\n",
      "        set=True (default is False)\n",
      "            Return list of symbols and set of tuple(s) of solution(s).\n",
      "        exclude=[] (default)\n",
      "            Do not try to solve for any of the free symbols in exclude;\n",
      "            if expressions are given, the free symbols in them will\n",
      "            be extracted automatically.\n",
      "        check=True (default)\n",
      "            If False, do not do any testing of solutions. This can be\n",
      "            useful if you want to include solutions that make any\n",
      "            denominator zero.\n",
      "        numerical=True (default)\n",
      "            Do a fast numerical check if *f* has only one symbol.\n",
      "        minimal=True (default is False)\n",
      "            A very fast, minimal testing.\n",
      "        warn=True (default is False)\n",
      "            Show a warning if ``checksol()`` could not conclude.\n",
      "        simplify=True (default)\n",
      "            Simplify all but polynomials of order 3 or greater before\n",
      "            returning them and (if check is not False) use the\n",
      "            general simplify function on the solutions and the\n",
      "            expression obtained when they are substituted into the\n",
      "            function which should be zero.\n",
      "        force=True (default is False)\n",
      "            Make positive all symbols without assumptions regarding sign.\n",
      "        rational=True (default)\n",
      "            Recast Floats as Rational; if this option is not used, the\n",
      "            system containing Floats may fail to solve because of issues\n",
      "            with polys. If rational=None, Floats will be recast as\n",
      "            rationals but the answer will be recast as Floats. If the\n",
      "            flag is False then nothing will be done to the Floats.\n",
      "        manual=True (default is False)\n",
      "            Do not use the polys/matrix method to solve a system of\n",
      "            equations, solve them one at a time as you might \"manually.\"\n",
      "        implicit=True (default is False)\n",
      "            Allows ``solve`` to return a solution for a pattern in terms of\n",
      "            other functions that contain that pattern; this is only\n",
      "            needed if the pattern is inside of some invertible function\n",
      "            like cos, exp, ect.\n",
      "        particular=True (default is False)\n",
      "            Instructs ``solve`` to try to find a particular solution to a linear\n",
      "            system with as many zeros as possible; this is very expensive.\n",
      "        quick=True (default is False)\n",
      "            When using particular=True, use a fast heuristic to find a\n",
      "            solution with many zeros (instead of using the very slow method\n",
      "            guaranteed to find the largest number of zeros possible).\n",
      "        cubics=True (default)\n",
      "            Return explicit solutions when cubic expressions are encountered.\n",
      "        quartics=True (default)\n",
      "            Return explicit solutions when quartic expressions are encountered.\n",
      "        quintics=True (default)\n",
      "            Return explicit solutions (if possible) when quintic expressions\n",
      "            are encountered.\n",
      "    \n",
      "    See Also\n",
      "    ========\n",
      "    \n",
      "    rsolve: For solving recurrence relationships\n",
      "    dsolve: For solving differential equations\n",
      "\n"
     ]
    }
   ],
   "source": [
    "# resolver f'(x)=0 y mostrar soluciones\n",
    "help(sym.solve)"
   ]
  },
  {
   "cell_type": "code",
   "execution_count": null,
   "metadata": {},
   "outputs": [],
   "source": [
    "# x^2 + 2x +1\n",
    "# x^2 + 2x +1=0\n",
    "\n",
    "# x^2 +2x+1 = 5 --->x^2 +2x+1 - 5 = 0"
   ]
  },
  {
   "cell_type": "code",
   "execution_count": 19,
   "metadata": {},
   "outputs": [
    {
     "data": {
      "text/latex": [
       "$\\displaystyle \\left[ 0\\right]$"
      ],
      "text/plain": [
       "[0]"
      ]
     },
     "execution_count": 19,
     "metadata": {},
     "output_type": "execute_result"
    }
   ],
   "source": [
    "## 2x = 0 --> x=0\n",
    "soluciones = sym.solve(df, x)\n",
    "soluciones"
   ]
  },
  {
   "cell_type": "code",
   "execution_count": 22,
   "metadata": {},
   "outputs": [
    {
     "data": {
      "text/latex": [
       "$\\displaystyle 0$"
      ],
      "text/plain": [
       "0"
      ]
     },
     "execution_count": 22,
     "metadata": {},
     "output_type": "execute_result"
    }
   ],
   "source": [
    "soluciones[0]"
   ]
  },
  {
   "cell_type": "code",
   "execution_count": 24,
   "metadata": {},
   "outputs": [
    {
     "data": {
      "text/latex": [
       "$\\displaystyle \\left[ - i, \\  i\\right]$"
      ],
      "text/plain": [
       "[-ⅈ, ⅈ]"
      ]
     },
     "execution_count": 24,
     "metadata": {},
     "output_type": "execute_result"
    }
   ],
   "source": [
    "# Encuentra también soluciones complejas\n",
    "s = sym.solve(x**2 + 1, x)\n",
    "s"
   ]
  },
  {
   "cell_type": "code",
   "execution_count": null,
   "metadata": {},
   "outputs": [],
   "source": [
    "# x^2 + 1 = 0\n",
    "# x^2 = -1\n",
    "# x = +-sqrt(-1)\n",
    "# x = +- i -----> x1 = i, x2 = -i"
   ]
  },
  {
   "cell_type": "code",
   "execution_count": 27,
   "metadata": {},
   "outputs": [
    {
     "data": {
      "text/latex": [
       "$\\displaystyle \\left( - i, \\  i\\right)$"
      ],
      "text/plain": [
       "(-ⅈ, ⅈ)"
      ]
     },
     "execution_count": 27,
     "metadata": {},
     "output_type": "execute_result"
    }
   ],
   "source": [
    "s[0], s[1]"
   ]
  },
  {
   "cell_type": "code",
   "execution_count": 28,
   "metadata": {},
   "outputs": [
    {
     "data": {
      "text/latex": [
       "$\\displaystyle \\left[ \\sqrt[3]{- y}, \\  - \\frac{\\sqrt[3]{- y}}{2} - \\frac{\\sqrt{3} i \\sqrt[3]{- y}}{2}, \\  - \\frac{\\sqrt[3]{- y}}{2} + \\frac{\\sqrt{3} i \\sqrt[3]{- y}}{2}\\right]$"
      ],
      "text/plain": [
       "⎡          3 ____        3 ____    3 ____        3 ____⎤\n",
       "⎢3 ____    ╲╱ -y    √3⋅ⅈ⋅╲╱ -y     ╲╱ -y    √3⋅ⅈ⋅╲╱ -y ⎥\n",
       "⎢╲╱ -y , - ────── - ───────────, - ────── + ───────────⎥\n",
       "⎣            2           2           2           2     ⎦"
      ]
     },
     "execution_count": 28,
     "metadata": {},
     "output_type": "execute_result"
    }
   ],
   "source": [
    "# Puedo resolver ecuaciones que involucren más de una variable\n",
    "sym.var('y')\n",
    "s3 = sym.solve(x**3 + y, x)\n",
    "s3"
   ]
  },
  {
   "cell_type": "markdown",
   "metadata": {},
   "source": [
    "Veamos la gráfica..."
   ]
  },
  {
   "cell_type": "code",
   "execution_count": 34,
   "metadata": {},
   "outputs": [
    {
     "data": {
      "text/latex": [
       "$\\displaystyle x^{2}$"
      ],
      "text/plain": [
       " 2\n",
       "x "
      ]
     },
     "execution_count": 34,
     "metadata": {},
     "output_type": "execute_result"
    }
   ],
   "source": [
    "f"
   ]
  },
  {
   "cell_type": "code",
   "execution_count": 31,
   "metadata": {
    "collapsed": true
   },
   "outputs": [
    {
     "data": {
      "text/plain": [
       "array([ 0.        ,  0.1010101 ,  0.2020202 ,  0.3030303 ,  0.4040404 ,\n",
       "        0.50505051,  0.60606061,  0.70707071,  0.80808081,  0.90909091,\n",
       "        1.01010101,  1.11111111,  1.21212121,  1.31313131,  1.41414141,\n",
       "        1.51515152,  1.61616162,  1.71717172,  1.81818182,  1.91919192,\n",
       "        2.02020202,  2.12121212,  2.22222222,  2.32323232,  2.42424242,\n",
       "        2.52525253,  2.62626263,  2.72727273,  2.82828283,  2.92929293,\n",
       "        3.03030303,  3.13131313,  3.23232323,  3.33333333,  3.43434343,\n",
       "        3.53535354,  3.63636364,  3.73737374,  3.83838384,  3.93939394,\n",
       "        4.04040404,  4.14141414,  4.24242424,  4.34343434,  4.44444444,\n",
       "        4.54545455,  4.64646465,  4.74747475,  4.84848485,  4.94949495,\n",
       "        5.05050505,  5.15151515,  5.25252525,  5.35353535,  5.45454545,\n",
       "        5.55555556,  5.65656566,  5.75757576,  5.85858586,  5.95959596,\n",
       "        6.06060606,  6.16161616,  6.26262626,  6.36363636,  6.46464646,\n",
       "        6.56565657,  6.66666667,  6.76767677,  6.86868687,  6.96969697,\n",
       "        7.07070707,  7.17171717,  7.27272727,  7.37373737,  7.47474747,\n",
       "        7.57575758,  7.67676768,  7.77777778,  7.87878788,  7.97979798,\n",
       "        8.08080808,  8.18181818,  8.28282828,  8.38383838,  8.48484848,\n",
       "        8.58585859,  8.68686869,  8.78787879,  8.88888889,  8.98989899,\n",
       "        9.09090909,  9.19191919,  9.29292929,  9.39393939,  9.49494949,\n",
       "        9.5959596 ,  9.6969697 ,  9.7979798 ,  9.8989899 , 10.        ])"
      ]
     },
     "execution_count": 31,
     "metadata": {},
     "output_type": "execute_result"
    }
   ],
   "source": [
    "x_num = np.linspace(0,10,100)\n",
    "x_num"
   ]
  },
  {
   "cell_type": "code",
   "execution_count": 32,
   "metadata": {},
   "outputs": [
    {
     "ename": "TypeError",
     "evalue": "'Pow' object is not callable",
     "output_type": "error",
     "traceback": [
      "\u001b[1;31m---------------------------------------------------------------------------\u001b[0m",
      "\u001b[1;31mTypeError\u001b[0m                                 Traceback (most recent call last)",
      "\u001b[1;32m~\\AppData\\Local\\Temp/ipykernel_60852/3803717395.py\u001b[0m in \u001b[0;36m<module>\u001b[1;34m\u001b[0m\n\u001b[1;32m----> 1\u001b[1;33m \u001b[0mf\u001b[0m\u001b[1;33m(\u001b[0m\u001b[0mx_num\u001b[0m\u001b[1;33m)\u001b[0m\u001b[1;33m\u001b[0m\u001b[1;33m\u001b[0m\u001b[0m\n\u001b[0m",
      "\u001b[1;31mTypeError\u001b[0m: 'Pow' object is not callable"
     ]
    }
   ],
   "source": [
    "f(x_num)"
   ]
  },
  {
   "cell_type": "code",
   "execution_count": 30,
   "metadata": {},
   "outputs": [],
   "source": [
    "# convertir f e una función que se pueda evaluar numéricamente (función lambdify de la librería sympy)\n",
    "f_num = sym.lambdify(x,f, modules = 'numpy')"
   ]
  },
  {
   "cell_type": "code",
   "execution_count": 33,
   "metadata": {
    "collapsed": true
   },
   "outputs": [
    {
     "data": {
      "text/plain": [
       "array([0.00000000e+00, 1.02030405e-02, 4.08121620e-02, 9.18273646e-02,\n",
       "       1.63248648e-01, 2.55076013e-01, 3.67309458e-01, 4.99948985e-01,\n",
       "       6.52994592e-01, 8.26446281e-01, 1.02030405e+00, 1.23456790e+00,\n",
       "       1.46923783e+00, 1.72431385e+00, 1.99979594e+00, 2.29568411e+00,\n",
       "       2.61197837e+00, 2.94867871e+00, 3.30578512e+00, 3.68329762e+00,\n",
       "       4.08121620e+00, 4.49954086e+00, 4.93827160e+00, 5.39740843e+00,\n",
       "       5.87695133e+00, 6.37690032e+00, 6.89725538e+00, 7.43801653e+00,\n",
       "       7.99918376e+00, 8.58075707e+00, 9.18273646e+00, 9.80512193e+00,\n",
       "       1.04479135e+01, 1.11111111e+01, 1.17947148e+01, 1.24987246e+01,\n",
       "       1.32231405e+01, 1.39679625e+01, 1.47331905e+01, 1.55188246e+01,\n",
       "       1.63248648e+01, 1.71513111e+01, 1.79981635e+01, 1.88654219e+01,\n",
       "       1.97530864e+01, 2.06611570e+01, 2.15896337e+01, 2.25385165e+01,\n",
       "       2.35078053e+01, 2.44975003e+01, 2.55076013e+01, 2.65381084e+01,\n",
       "       2.75890215e+01, 2.86603408e+01, 2.97520661e+01, 3.08641975e+01,\n",
       "       3.19967350e+01, 3.31496786e+01, 3.43230283e+01, 3.55167840e+01,\n",
       "       3.67309458e+01, 3.79655137e+01, 3.92204877e+01, 4.04958678e+01,\n",
       "       4.17916539e+01, 4.31078461e+01, 4.44444444e+01, 4.58014488e+01,\n",
       "       4.71788593e+01, 4.85766758e+01, 4.99948985e+01, 5.14335272e+01,\n",
       "       5.28925620e+01, 5.43720029e+01, 5.58718498e+01, 5.73921028e+01,\n",
       "       5.89327620e+01, 6.04938272e+01, 6.20752984e+01, 6.36771758e+01,\n",
       "       6.52994592e+01, 6.69421488e+01, 6.86052444e+01, 7.02887460e+01,\n",
       "       7.19926538e+01, 7.37169677e+01, 7.54616876e+01, 7.72268136e+01,\n",
       "       7.90123457e+01, 8.08182838e+01, 8.26446281e+01, 8.44913784e+01,\n",
       "       8.63585348e+01, 8.82460973e+01, 9.01540659e+01, 9.20824406e+01,\n",
       "       9.40312213e+01, 9.60004081e+01, 9.79900010e+01, 1.00000000e+02])"
      ]
     },
     "execution_count": 33,
     "metadata": {},
     "output_type": "execute_result"
    }
   ],
   "source": [
    "f_num(x_num)"
   ]
  },
  {
   "cell_type": "code",
   "execution_count": 35,
   "metadata": {
    "collapsed": true
   },
   "outputs": [
    {
     "data": {
      "text/plain": [
       "array([-5.        , -4.8989899 , -4.7979798 , -4.6969697 , -4.5959596 ,\n",
       "       -4.49494949, -4.39393939, -4.29292929, -4.19191919, -4.09090909,\n",
       "       -3.98989899, -3.88888889, -3.78787879, -3.68686869, -3.58585859,\n",
       "       -3.48484848, -3.38383838, -3.28282828, -3.18181818, -3.08080808,\n",
       "       -2.97979798, -2.87878788, -2.77777778, -2.67676768, -2.57575758,\n",
       "       -2.47474747, -2.37373737, -2.27272727, -2.17171717, -2.07070707,\n",
       "       -1.96969697, -1.86868687, -1.76767677, -1.66666667, -1.56565657,\n",
       "       -1.46464646, -1.36363636, -1.26262626, -1.16161616, -1.06060606,\n",
       "       -0.95959596, -0.85858586, -0.75757576, -0.65656566, -0.55555556,\n",
       "       -0.45454545, -0.35353535, -0.25252525, -0.15151515, -0.05050505,\n",
       "        0.05050505,  0.15151515,  0.25252525,  0.35353535,  0.45454545,\n",
       "        0.55555556,  0.65656566,  0.75757576,  0.85858586,  0.95959596,\n",
       "        1.06060606,  1.16161616,  1.26262626,  1.36363636,  1.46464646,\n",
       "        1.56565657,  1.66666667,  1.76767677,  1.86868687,  1.96969697,\n",
       "        2.07070707,  2.17171717,  2.27272727,  2.37373737,  2.47474747,\n",
       "        2.57575758,  2.67676768,  2.77777778,  2.87878788,  2.97979798,\n",
       "        3.08080808,  3.18181818,  3.28282828,  3.38383838,  3.48484848,\n",
       "        3.58585859,  3.68686869,  3.78787879,  3.88888889,  3.98989899,\n",
       "        4.09090909,  4.19191919,  4.29292929,  4.39393939,  4.49494949,\n",
       "        4.5959596 ,  4.6969697 ,  4.7979798 ,  4.8989899 ,  5.        ])"
      ]
     },
     "execution_count": 35,
     "metadata": {},
     "output_type": "execute_result"
    }
   ],
   "source": [
    "# Coordenadas x (abscisas)\n",
    "x_num = np.linspace(-5,5,100)\n",
    "x_num"
   ]
  },
  {
   "cell_type": "code",
   "execution_count": 46,
   "metadata": {},
   "outputs": [
    {
     "data": {
      "image/png": "[encoded data removed]",
      "text/plain": [
       "<Figure size 432x288 with 1 Axes>"
      ]
     },
     "metadata": {
      "needs_background": "light"
     },
     "output_type": "display_data"
    }
   ],
   "source": [
    "#Graficar\n",
    "plt.figure(figsize=(6,4))\n",
    "plt.plot(x_num,          #puntos en x\n",
    "        f_num(x_num),    #La función evaluada en x\n",
    "        'k',             #color de linea\n",
    "         lw=2,           #grosor de linea\n",
    "         label= '$f(x)=x^2$' # Etiqueta de la gráfica\n",
    "        )\n",
    "#Graficando el punto mínimo\n",
    "plt.plot(soluciones[0],        #coordenada en x del punto óptimo\n",
    "         f_num(soluciones[0]), #coordenada en y del punto óptimo\n",
    "        'ro',                  # el color del punto\n",
    "        ms=10,                 # el grosor del punto a graficar\n",
    "        label = f'Mínimo global ({soluciones[0], f_num(soluciones[0])})' #etiqueta de la gráfica\n",
    "        )\n",
    "\n",
    "plt.xlabel('$x$')\n",
    "plt.ylabel('$f(x)$')\n",
    "plt.legend(loc='best')\n",
    "plt.show()"
   ]
  },
  {
   "cell_type": "code",
   "execution_count": 41,
   "metadata": {},
   "outputs": [
    {
     "name": "stdout",
     "output_type": "stream",
     "text": [
      "Help on function plot in module matplotlib.pyplot:\n",
      "\n",
      "plot(*args, scalex=True, scaley=True, data=None, **kwargs)\n",
      "    Plot y versus x as lines and/or markers.\n",
      "    \n",
      "    Call signatures::\n",
      "    \n",
      "        plot([x], y, [fmt], *, data=None, **kwargs)\n",
      "        plot([x], y, [fmt], [x2], y2, [fmt2], ..., **kwargs)\n",
      "    \n",
      "    The coordinates of the points or line nodes are given by *x*, *y*.\n",
      "    \n",
      "    The optional parameter *fmt* is a convenient way for defining basic\n",
      "    formatting like color, marker and linestyle. It's a shortcut string\n",
      "    notation described in the *Notes* section below.\n",
      "    \n",
      "    >>> plot(x, y)        # plot x and y using default line style and color\n",
      "    >>> plot(x, y, 'bo')  # plot x and y using blue circle markers\n",
      "    >>> plot(y)           # plot y using x as index array 0..N-1\n",
      "    >>> plot(y, 'r+')     # ditto, but with red plusses\n",
      "    \n",
      "    You can use `.Line2D` properties as keyword arguments for more\n",
      "    control on the appearance. Line properties and *fmt* can be mixed.\n",
      "    The following two calls yield identical results:\n",
      "    \n",
      "    >>> plot(x, y, 'go--', linewidth=2, markersize=12)\n",
      "    >>> plot(x, y, color='green', marker='o', linestyle='dashed',\n",
      "    ...      linewidth=2, markersize=12)\n",
      "    \n",
      "    When conflicting with *fmt*, keyword arguments take precedence.\n",
      "    \n",
      "    \n",
      "    **Plotting labelled data**\n",
      "    \n",
      "    There's a convenient way for plotting objects with labelled data (i.e.\n",
      "    data that can be accessed by index ``obj['y']``). Instead of giving\n",
      "    the data in *x* and *y*, you can provide the object in the *data*\n",
      "    parameter and just give the labels for *x* and *y*::\n",
      "    \n",
      "    >>> plot('xlabel', 'ylabel', data=obj)\n",
      "    \n",
      "    All indexable objects are supported. This could e.g. be a `dict`, a\n",
      "    `pandas.DataFrame` or a structured numpy array.\n",
      "    \n",
      "    \n",
      "    **Plotting multiple sets of data**\n",
      "    \n",
      "    There are various ways to plot multiple sets of data.\n",
      "    \n",
      "    - The most straight forward way is just to call `plot` multiple times.\n",
      "      Example:\n",
      "    \n",
      "      >>> plot(x1, y1, 'bo')\n",
      "      >>> plot(x2, y2, 'go')\n",
      "    \n",
      "    - If *x* and/or *y* are 2D arrays a separate data set will be drawn\n",
      "      for every column. If both *x* and *y* are 2D, they must have the\n",
      "      same shape. If only one of them is 2D with shape (N, m) the other\n",
      "      must have length N and will be used for every data set m.\n",
      "    \n",
      "      Example:\n",
      "    \n",
      "      >>> x = [1, 2, 3]\n",
      "      >>> y = np.array([[1, 2], [3, 4], [5, 6]])\n",
      "      >>> plot(x, y)\n",
      "    \n",
      "      is equivalent to:\n",
      "    \n",
      "      >>> for col in range(y.shape[1]):\n",
      "      ...     plot(x, y[:, col])\n",
      "    \n",
      "    - The third way is to specify multiple sets of *[x]*, *y*, *[fmt]*\n",
      "      groups::\n",
      "    \n",
      "      >>> plot(x1, y1, 'g^', x2, y2, 'g-')\n",
      "    \n",
      "      In this case, any additional keyword argument applies to all\n",
      "      datasets. Also this syntax cannot be combined with the *data*\n",
      "      parameter.\n",
      "    \n",
      "    By default, each line is assigned a different style specified by a\n",
      "    'style cycle'. The *fmt* and line property parameters are only\n",
      "    necessary if you want explicit deviations from these defaults.\n",
      "    Alternatively, you can also change the style cycle using\n",
      "    :rc:`axes.prop_cycle`.\n",
      "    \n",
      "    \n",
      "    Parameters\n",
      "    ----------\n",
      "    x, y : array-like or scalar\n",
      "        The horizontal / vertical coordinates of the data points.\n",
      "        *x* values are optional and default to ``range(len(y))``.\n",
      "    \n",
      "        Commonly, these parameters are 1D arrays.\n",
      "    \n",
      "        They can also be scalars, or two-dimensional (in that case, the\n",
      "        columns represent separate data sets).\n",
      "    \n",
      "        These arguments cannot be passed as keywords.\n",
      "    \n",
      "    fmt : str, optional\n",
      "        A format string, e.g. 'ro' for red circles. See the *Notes*\n",
      "        section for a full description of the format strings.\n",
      "    \n",
      "        Format strings are just an abbreviation for quickly setting\n",
      "        basic line properties. All of these and more can also be\n",
      "        controlled by keyword arguments.\n",
      "    \n",
      "        This argument cannot be passed as keyword.\n",
      "    \n",
      "    data : indexable object, optional\n",
      "        An object with labelled data. If given, provide the label names to\n",
      "        plot in *x* and *y*.\n",
      "    \n",
      "        .. note::\n",
      "            Technically there's a slight ambiguity in calls where the\n",
      "            second label is a valid *fmt*. ``plot('n', 'o', data=obj)``\n",
      "            could be ``plt(x, y)`` or ``plt(y, fmt)``. In such cases,\n",
      "            the former interpretation is chosen, but a warning is issued.\n",
      "            You may suppress the warning by adding an empty format string\n",
      "            ``plot('n', 'o', '', data=obj)``.\n",
      "    \n",
      "    Returns\n",
      "    -------\n",
      "    list of `.Line2D`\n",
      "        A list of lines representing the plotted data.\n",
      "    \n",
      "    Other Parameters\n",
      "    ----------------\n",
      "    scalex, scaley : bool, default: True\n",
      "        These parameters determine if the view limits are adapted to the\n",
      "        data limits. The values are passed on to `autoscale_view`.\n",
      "    \n",
      "    **kwargs : `.Line2D` properties, optional\n",
      "        *kwargs* are used to specify properties like a line label (for\n",
      "        auto legends), linewidth, antialiasing, marker face color.\n",
      "        Example::\n",
      "    \n",
      "        >>> plot([1, 2, 3], [1, 2, 3], 'go-', label='line 1', linewidth=2)\n",
      "        >>> plot([1, 2, 3], [1, 4, 9], 'rs', label='line 2')\n",
      "    \n",
      "        If you specify multiple lines with one plot call, the kwargs apply\n",
      "        to all those lines. In case the label object is iterable, each\n",
      "        element is used as labels for each set of data.\n",
      "    \n",
      "        Here is a list of available `.Line2D` properties:\n",
      "    \n",
      "        Properties:\n",
      "        agg_filter: a filter function, which takes a (m, n, 3) float array and a dpi value, and returns a (m, n, 3) array\n",
      "        alpha: scalar or None\n",
      "        animated: bool\n",
      "        antialiased or aa: bool\n",
      "        clip_box: `.Bbox`\n",
      "        clip_on: bool\n",
      "        clip_path: Patch or (Path, Transform) or None\n",
      "        color or c: color\n",
      "        dash_capstyle: `.CapStyle` or {'butt', 'projecting', 'round'}\n",
      "        dash_joinstyle: `.JoinStyle` or {'miter', 'round', 'bevel'}\n",
      "        dashes: sequence of floats (on/off ink in points) or (None, None)\n",
      "        data: (2, N) array or two 1D arrays\n",
      "        drawstyle or ds: {'default', 'steps', 'steps-pre', 'steps-mid', 'steps-post'}, default: 'default'\n",
      "        figure: `.Figure`\n",
      "        fillstyle: {'full', 'left', 'right', 'bottom', 'top', 'none'}\n",
      "        gid: str\n",
      "        in_layout: bool\n",
      "        label: object\n",
      "        linestyle or ls: {'-', '--', '-.', ':', '', (offset, on-off-seq), ...}\n",
      "        linewidth or lw: float\n",
      "        marker: marker style string, `~.path.Path` or `~.markers.MarkerStyle`\n",
      "        markeredgecolor or mec: color\n",
      "        markeredgewidth or mew: float\n",
      "        markerfacecolor or mfc: color\n",
      "        markerfacecoloralt or mfcalt: color\n",
      "        markersize or ms: float\n",
      "        markevery: None or int or (int, int) or slice or list[int] or float or (float, float) or list[bool]\n",
      "        path_effects: `.AbstractPathEffect`\n",
      "        picker: float or callable[[Artist, Event], tuple[bool, dict]]\n",
      "        pickradius: float\n",
      "        rasterized: bool\n",
      "        sketch_params: (scale: float, length: float, randomness: float)\n",
      "        snap: bool or None\n",
      "        solid_capstyle: `.CapStyle` or {'butt', 'projecting', 'round'}\n",
      "        solid_joinstyle: `.JoinStyle` or {'miter', 'round', 'bevel'}\n",
      "        transform: unknown\n",
      "        url: str\n",
      "        visible: bool\n",
      "        xdata: 1D array\n",
      "        ydata: 1D array\n",
      "        zorder: float\n",
      "    \n",
      "    See Also\n",
      "    --------\n",
      "    scatter : XY scatter plot with markers of varying size and/or color (\n",
      "        sometimes also called bubble chart).\n",
      "    \n",
      "    Notes\n",
      "    -----\n",
      "    **Format Strings**\n",
      "    \n",
      "    A format string consists of a part for color, marker and line::\n",
      "    \n",
      "        fmt = '[marker][line][color]'\n",
      "    \n",
      "    Each of them is optional. If not provided, the value from the style\n",
      "    cycle is used. Exception: If ``line`` is given, but no ``marker``,\n",
      "    the data will be a line without markers.\n",
      "    \n",
      "    Other combinations such as ``[color][marker][line]`` are also\n",
      "    supported, but note that their parsing may be ambiguous.\n",
      "    \n",
      "    **Markers**\n",
      "    \n",
      "    =============   ===============================\n",
      "    character       description\n",
      "    =============   ===============================\n",
      "    ``'.'``         point marker\n",
      "    ``','``         pixel marker\n",
      "    ``'o'``         circle marker\n",
      "    ``'v'``         triangle_down marker\n",
      "    ``'^'``         triangle_up marker\n",
      "    ``'<'``         triangle_left marker\n",
      "    ``'>'``         triangle_right marker\n",
      "    ``'1'``         tri_down marker\n",
      "    ``'2'``         tri_up marker\n",
      "    ``'3'``         tri_left marker\n",
      "    ``'4'``         tri_right marker\n",
      "    ``'8'``         octagon marker\n",
      "    ``'s'``         square marker\n",
      "    ``'p'``         pentagon marker\n",
      "    ``'P'``         plus (filled) marker\n",
      "    ``'*'``         star marker\n",
      "    ``'h'``         hexagon1 marker\n",
      "    ``'H'``         hexagon2 marker\n",
      "    ``'+'``         plus marker\n",
      "    ``'x'``         x marker\n",
      "    ``'X'``         x (filled) marker\n",
      "    ``'D'``         diamond marker\n",
      "    ``'d'``         thin_diamond marker\n",
      "    ``'|'``         vline marker\n",
      "    ``'_'``         hline marker\n",
      "    =============   ===============================\n",
      "    \n",
      "    **Line Styles**\n",
      "    \n",
      "    =============    ===============================\n",
      "    character        description\n",
      "    =============    ===============================\n",
      "    ``'-'``          solid line style\n",
      "    ``'--'``         dashed line style\n",
      "    ``'-.'``         dash-dot line style\n",
      "    ``':'``          dotted line style\n",
      "    =============    ===============================\n",
      "    \n",
      "    Example format strings::\n",
      "    \n",
      "        'b'    # blue markers with default shape\n",
      "        'or'   # red circles\n",
      "        '-g'   # green solid line\n",
      "        '--'   # dashed line with default color\n",
      "        '^k:'  # black triangle_up markers connected by a dotted line\n",
      "    \n",
      "    **Colors**\n",
      "    \n",
      "    The supported color abbreviations are the single letter codes\n",
      "    \n",
      "    =============    ===============================\n",
      "    character        color\n",
      "    =============    ===============================\n",
      "    ``'b'``          blue\n",
      "    ``'g'``          green\n",
      "    ``'r'``          red\n",
      "    ``'c'``          cyan\n",
      "    ``'m'``          magenta\n",
      "    ``'y'``          yellow\n",
      "    ``'k'``          black\n",
      "    ``'w'``          white\n",
      "    =============    ===============================\n",
      "    \n",
      "    and the ``'CN'`` colors that index into the default property cycle.\n",
      "    \n",
      "    If the color is the only part of the format string, you can\n",
      "    additionally use any  `matplotlib.colors` spec, e.g. full names\n",
      "    (``'green'``) or hex strings (``'#008000'``).\n",
      "\n"
     ]
    }
   ],
   "source": [
    "help(plt.plot)"
   ]
  },
  {
   "cell_type": "markdown",
   "metadata": {},
   "source": [
    "Ver diferencias entre f y f_num"
   ]
  },
  {
   "cell_type": "code",
   "execution_count": 47,
   "metadata": {},
   "outputs": [
    {
     "data": {
      "text/latex": [
       "$\\displaystyle x^{2}$"
      ],
      "text/plain": [
       " 2\n",
       "x "
      ]
     },
     "execution_count": 47,
     "metadata": {},
     "output_type": "execute_result"
    }
   ],
   "source": [
    "f"
   ]
  },
  {
   "cell_type": "code",
   "execution_count": 48,
   "metadata": {},
   "outputs": [
    {
     "data": {
      "text/plain": [
       "array([1, 4], dtype=int32)"
      ]
     },
     "execution_count": 48,
     "metadata": {},
     "output_type": "execute_result"
    }
   ],
   "source": [
    "f_num(np.array([1,2]))"
   ]
  },
  {
   "cell_type": "markdown",
   "metadata": {},
   "source": [
    "**Otra manera de hacer lo anterior**\n",
    "\n",
    "Concepto de función..."
   ]
  },
  {
   "cell_type": "code",
   "execution_count": 49,
   "metadata": {},
   "outputs": [],
   "source": [
    "# Concepto de función\n",
    "# def nombre_de_la_funcion(argumento[s]):\n",
    "#     --> Operación 1\n",
    "#     --> Operación 2\n",
    "#     --> ...\n",
    "#     --> Operación N\n",
    "#     return [lo que vaya a devolver]\n",
    "def h(x):\n",
    "    return x**2"
   ]
  },
  {
   "cell_type": "code",
   "execution_count": 53,
   "metadata": {},
   "outputs": [
    {
     "data": {
      "text/plain": [
       "(1, 4, array([1, 4], dtype=int32), x**2)"
      ]
     },
     "execution_count": 53,
     "metadata": {},
     "output_type": "execute_result"
    }
   ],
   "source": [
    "h(1), h(2.0), h(np.array([1,2])), h(x)"
   ]
  },
  {
   "cell_type": "code",
   "execution_count": 54,
   "metadata": {},
   "outputs": [
    {
     "data": {
      "text/latex": [
       "$\\displaystyle x^{2}$"
      ],
      "text/plain": [
       " 2\n",
       "x "
      ]
     },
     "execution_count": 54,
     "metadata": {},
     "output_type": "execute_result"
    }
   ],
   "source": [
    "h(x)"
   ]
  },
  {
   "cell_type": "code",
   "execution_count": 55,
   "metadata": {},
   "outputs": [
    {
     "data": {
      "text/latex": [
       "$\\displaystyle 2 x$"
      ],
      "text/plain": [
       "2⋅x"
      ]
     },
     "execution_count": 55,
     "metadata": {},
     "output_type": "execute_result"
    }
   ],
   "source": [
    "dh = sym.diff(h(x), x)\n",
    "dh"
   ]
  },
  {
   "cell_type": "code",
   "execution_count": 56,
   "metadata": {},
   "outputs": [
    {
     "data": {
      "text/latex": [
       "$\\displaystyle \\left[ 0\\right]$"
      ],
      "text/plain": [
       "[0]"
      ]
     },
     "execution_count": 56,
     "metadata": {},
     "output_type": "execute_result"
    }
   ],
   "source": [
    "sol = sym.solve(dh,x)\n",
    "sol"
   ]
  },
  {
   "cell_type": "code",
   "execution_count": 57,
   "metadata": {},
   "outputs": [
    {
     "data": {
      "image/png": "[encoded data removed]",
      "text/plain": [
       "<Figure size 432x288 with 1 Axes>"
      ]
     },
     "metadata": {
      "needs_background": "light"
     },
     "output_type": "display_data"
    }
   ],
   "source": [
    "plt.figure(figsize=(6,4))\n",
    "plt.plot(x_num,          #puntos en x\n",
    "        h(x_num),    #La función evaluada en x\n",
    "        'k',             #color de linea\n",
    "         lw=2,           #grosor de linea\n",
    "         label= '$f(x)=x^2$' # Etiqueta de la gráfica\n",
    "        )\n",
    "#Graficando el punto mínimo\n",
    "plt.plot(sol[0],        #coordenada en x del punto óptimo\n",
    "         h(sol[0]), #coordenada en y del punto óptimo\n",
    "        'ro',                  # el color del punto\n",
    "        ms=10,                 # el grosor del punto a graficar\n",
    "        label = f'Mínimo global ({sol[0], h(sol[0])})' #etiqueta de la gráfica\n",
    "        )\n",
    "\n",
    "plt.xlabel('$x$')\n",
    "plt.ylabel('$f(x)$')\n",
    "plt.legend(loc='best')\n",
    "plt.show()"
   ]
  },
  {
   "cell_type": "markdown",
   "metadata": {},
   "source": [
    "El converso del teorema anterior no es cierto.\n",
    "\n",
    "### Actividad\n",
    "Considere $g(x)=x^3$. \n",
    "- Usando `sympy`, muestre que $g'(0)=0$.\n",
    "- Sin embargo, descartar que $x=0$ es un extremo de $g(x)$ viendo su **gráfica**."
   ]
  },
  {
   "cell_type": "code",
   "execution_count": 58,
   "metadata": {},
   "outputs": [
    {
     "data": {
      "text/latex": [
       "$\\displaystyle x$"
      ],
      "text/plain": [
       "x"
      ]
     },
     "execution_count": 58,
     "metadata": {},
     "output_type": "execute_result"
    }
   ],
   "source": [
    "# Declarar la variable simbolica x\n",
    "sym.var('x')"
   ]
  },
  {
   "cell_type": "code",
   "execution_count": 59,
   "metadata": {},
   "outputs": [],
   "source": [
    "# Definimos funcion g(x)\n",
    "def g(x):\n",
    "    return x**3"
   ]
  },
  {
   "cell_type": "code",
   "execution_count": 60,
   "metadata": {},
   "outputs": [
    {
     "data": {
      "text/latex": [
       "$\\displaystyle x^{3}$"
      ],
      "text/plain": [
       " 3\n",
       "x "
      ]
     },
     "execution_count": 60,
     "metadata": {},
     "output_type": "execute_result"
    }
   ],
   "source": [
    "g(x)"
   ]
  },
  {
   "cell_type": "code",
   "execution_count": 61,
   "metadata": {},
   "outputs": [
    {
     "data": {
      "text/latex": [
       "$\\displaystyle 8$"
      ],
      "text/plain": [
       "8"
      ]
     },
     "execution_count": 61,
     "metadata": {},
     "output_type": "execute_result"
    }
   ],
   "source": [
    "g(2)"
   ]
  },
  {
   "cell_type": "code",
   "execution_count": 62,
   "metadata": {},
   "outputs": [
    {
     "data": {
      "text/plain": [
       "array([1, 8], dtype=int32)"
      ]
     },
     "execution_count": 62,
     "metadata": {},
     "output_type": "execute_result"
    }
   ],
   "source": [
    "g(np.array([1,2]))"
   ]
  },
  {
   "cell_type": "code",
   "execution_count": 63,
   "metadata": {},
   "outputs": [
    {
     "data": {
      "text/latex": [
       "$\\displaystyle 3 x^{2}$"
      ],
      "text/plain": [
       "   2\n",
       "3⋅x "
      ]
     },
     "execution_count": 63,
     "metadata": {},
     "output_type": "execute_result"
    }
   ],
   "source": [
    "# Derivamos g(x)\n",
    "dg = sym.diff(g(x), x)\n",
    "dg"
   ]
  },
  {
   "cell_type": "code",
   "execution_count": 64,
   "metadata": {},
   "outputs": [
    {
     "data": {
      "text/latex": [
       "$\\displaystyle \\left[ 0\\right]$"
      ],
      "text/plain": [
       "[0]"
      ]
     },
     "execution_count": 64,
     "metadata": {},
     "output_type": "execute_result"
    }
   ],
   "source": [
    "# Puntos criticos (sy.solve(dg,x))\n",
    "soluciones = sym.solve(dg, x)\n",
    "soluciones"
   ]
  },
  {
   "cell_type": "code",
   "execution_count": 76,
   "metadata": {},
   "outputs": [],
   "source": [
    "x_num = np.linspace(-10,10)\n"
   ]
  },
  {
   "cell_type": "markdown",
   "metadata": {},
   "source": [
    "$g(x) = x^3$"
   ]
  },
  {
   "cell_type": "code",
   "execution_count": 79,
   "metadata": {},
   "outputs": [
    {
     "data": {
      "image/png": "[encoded data removed]",
      "text/plain": [
       "<Figure size 504x360 with 1 Axes>"
      ]
     },
     "metadata": {
      "needs_background": "light"
     },
     "output_type": "display_data"
    }
   ],
   "source": [
    "# graficar\n",
    "plt.figure(figsize=(7,5))\n",
    "plt.plot(x_num, g(x_num), 'b',label='$g(x)=x^3$')\n",
    "plt.plot(soluciones[0], g(soluciones[0]), 'ro', ms=10, \n",
    "         label=f'Punto Crítico {soluciones[0],g(soluciones[0])}')\n",
    "plt.xlabel('$x$')\n",
    "plt.ylabel('$y$')\n",
    "plt.legend(loc='best')\n",
    "plt.grid()\n",
    "plt.show()\n",
    "\n"
   ]
  },
  {
   "cell_type": "markdown",
   "metadata": {},
   "source": [
    "## 2. Criterio de la segunda derivada\n",
    "\n",
    "Sea $f(x)$ una función tal que $f’(c)=0$ y cuya segunda derivada existe en un intervalo abierto que contiene a $c$.\n",
    "- Si $f’’(c)>0$, entonces $f(c)$ es un mínimo relativo.\n",
    "- Si $f’’(c)<0$, entonces $f(c)$ es un máximo relativo.\n",
    "- Si $f’’(c)=0$, entonces el criterio no decide. "
   ]
  },
  {
   "cell_type": "markdown",
   "metadata": {},
   "source": [
    "### Ejemplo\n",
    "\n",
    "Mostrar, usando `sympy`, que la función $f(x)=x^2$ tiene un mínimo relativo en $x=0$.\n",
    "\n",
    "Ya vimos que $f'(0)=0$. Notemos que:"
   ]
  },
  {
   "cell_type": "code",
   "execution_count": 80,
   "metadata": {},
   "outputs": [],
   "source": [
    "# Sacamos la segunda derivada\n",
    "def f(x):\n",
    "    return x**2"
   ]
  },
  {
   "cell_type": "code",
   "execution_count": 81,
   "metadata": {},
   "outputs": [
    {
     "data": {
      "text/latex": [
       "$\\displaystyle 2 x$"
      ],
      "text/plain": [
       "2⋅x"
      ]
     },
     "execution_count": 81,
     "metadata": {},
     "output_type": "execute_result"
    }
   ],
   "source": [
    "df = sym.diff(f(x),x)\n",
    "df"
   ]
  },
  {
   "cell_type": "code",
   "execution_count": 82,
   "metadata": {},
   "outputs": [
    {
     "data": {
      "text/latex": [
       "$\\displaystyle 2$"
      ],
      "text/plain": [
       "2"
      ]
     },
     "execution_count": 82,
     "metadata": {},
     "output_type": "execute_result"
    }
   ],
   "source": [
    "# 1er forma para obtener la segunda derivada\n",
    "d2f = sym.diff(df, x)\n",
    "d2f"
   ]
  },
  {
   "cell_type": "code",
   "execution_count": 83,
   "metadata": {},
   "outputs": [
    {
     "data": {
      "text/latex": [
       "$\\displaystyle 2$"
      ],
      "text/plain": [
       "2"
      ]
     },
     "execution_count": 83,
     "metadata": {},
     "output_type": "execute_result"
    }
   ],
   "source": [
    "# 2da forma\n",
    "d2f = sym.diff(f(x),x,x)\n",
    "d2f"
   ]
  },
  {
   "cell_type": "code",
   "execution_count": 85,
   "metadata": {},
   "outputs": [
    {
     "data": {
      "text/latex": [
       "$\\displaystyle 2$"
      ],
      "text/plain": [
       "2"
      ]
     },
     "execution_count": 85,
     "metadata": {},
     "output_type": "execute_result"
    }
   ],
   "source": [
    "# 3er forma\n",
    "d2f = sym.diff(f(x),x,2)\n",
    "d2f"
   ]
  },
  {
   "cell_type": "code",
   "execution_count": 86,
   "metadata": {},
   "outputs": [
    {
     "data": {
      "text/latex": [
       "$\\displaystyle 0$"
      ],
      "text/plain": [
       "0"
      ]
     },
     "execution_count": 86,
     "metadata": {},
     "output_type": "execute_result"
    }
   ],
   "source": [
    "#Ejemplo de sustición de la variable x en la derivada de la función\n",
    "df.subs({x:0})"
   ]
  },
  {
   "cell_type": "code",
   "execution_count": 87,
   "metadata": {},
   "outputs": [
    {
     "data": {
      "text/latex": [
       "$\\displaystyle 2$"
      ],
      "text/plain": [
       "2"
      ]
     },
     "execution_count": 87,
     "metadata": {},
     "output_type": "execute_result"
    }
   ],
   "source": [
    "d2f.subs({x:0})"
   ]
  },
  {
   "cell_type": "code",
   "execution_count": null,
   "metadata": {},
   "outputs": [],
   "source": [
    "# Formas equivalentes de obtener la segunda derivada\n",
    "\n",
    "# Formas\n",
    "#d2f = sym.diff(f,x,x)\n",
    "#d2f = sym.diff(f,x,2)"
   ]
  },
  {
   "cell_type": "markdown",
   "metadata": {},
   "source": [
    "Por tanto, por el criterio de la segunda derivada, $f(0)=0$ es un mínimo relativo (en efecto, el mínimo global)."
   ]
  },
  {
   "cell_type": "markdown",
   "metadata": {},
   "source": [
    "### Ejemplo\n",
    "¿Qué pasa con $g(x)=x^3$ al intentar utilizar el criterio de la segunda derivada? (usar `sympy`)."
   ]
  },
  {
   "cell_type": "code",
   "execution_count": 88,
   "metadata": {},
   "outputs": [],
   "source": [
    "# Definimos la función g(x)=x^3\n",
    "def g(x):\n",
    "    return x**3"
   ]
  },
  {
   "cell_type": "code",
   "execution_count": 89,
   "metadata": {},
   "outputs": [
    {
     "data": {
      "text/latex": [
       "$\\displaystyle x^{3}$"
      ],
      "text/plain": [
       " 3\n",
       "x "
      ]
     },
     "execution_count": 89,
     "metadata": {},
     "output_type": "execute_result"
    }
   ],
   "source": [
    "g(x)"
   ]
  },
  {
   "cell_type": "code",
   "execution_count": 90,
   "metadata": {},
   "outputs": [
    {
     "data": {
      "text/latex": [
       "$\\displaystyle 3 x^{2}$"
      ],
      "text/plain": [
       "   2\n",
       "3⋅x "
      ]
     },
     "execution_count": 90,
     "metadata": {},
     "output_type": "execute_result"
    }
   ],
   "source": [
    "# Sacamos la derivada de la función g respecto a x g'(x)=3x^2\n",
    "dg = sym.diff(g(x),x)\n",
    "dg"
   ]
  },
  {
   "cell_type": "code",
   "execution_count": 91,
   "metadata": {},
   "outputs": [
    {
     "data": {
      "text/latex": [
       "$\\displaystyle \\left[ 0\\right]$"
      ],
      "text/plain": [
       "[0]"
      ]
     },
     "execution_count": 91,
     "metadata": {},
     "output_type": "execute_result"
    }
   ],
   "source": [
    "sol = sym.solve(dg,x)\n",
    "sol"
   ]
  },
  {
   "cell_type": "code",
   "execution_count": 92,
   "metadata": {},
   "outputs": [
    {
     "data": {
      "text/latex": [
       "$\\displaystyle 0$"
      ],
      "text/plain": [
       "0"
      ]
     },
     "execution_count": 92,
     "metadata": {},
     "output_type": "execute_result"
    }
   ],
   "source": [
    "# Observamos que g'(0)=0 (es un punto crítico)\n",
    "sol[0]"
   ]
  },
  {
   "cell_type": "code",
   "execution_count": 93,
   "metadata": {},
   "outputs": [
    {
     "data": {
      "text/latex": [
       "$\\displaystyle 6 x$"
      ],
      "text/plain": [
       "6⋅x"
      ]
     },
     "execution_count": 93,
     "metadata": {},
     "output_type": "execute_result"
    }
   ],
   "source": [
    "# Obtenemos la segunda derivada de la función g respecto a x g''(x)=6x\n",
    "d2g = sym.diff(g(x),x,2)\n",
    "d2g"
   ]
  },
  {
   "cell_type": "code",
   "execution_count": 94,
   "metadata": {},
   "outputs": [
    {
     "data": {
      "text/latex": [
       "$\\displaystyle 0$"
      ],
      "text/plain": [
       "0"
      ]
     },
     "execution_count": 94,
     "metadata": {},
     "output_type": "execute_result"
    }
   ],
   "source": [
    "# Evaluamos g''(0)\n",
    "d2g.subs({x:sol[0]})"
   ]
  },
  {
   "cell_type": "code",
   "execution_count": null,
   "metadata": {},
   "outputs": [],
   "source": [
    "def criterio_segunda_derivada(f, sol):\n",
    "    \n",
    "    print(f'{sol[0], f(sol[0])}, Es un mínimo')\n",
    "    print(f'{sol[0], f(sol[0])}, Es un máximo')\n",
    "    print(f'{sol[0], f(sol[0])}, No decide')"
   ]
  },
  {
   "cell_type": "markdown",
   "metadata": {},
   "source": [
    "Como $g''(0)=0$ entonces el criterio de la segunda derivada no concluye."
   ]
  },
  {
   "cell_type": "markdown",
   "metadata": {},
   "source": [
    "### Actividad\n",
    "\n",
    "¿Qué pasa con $h(x)=x^4$ al intentar utilizar el criterio de la segunda derivada?."
   ]
  },
  {
   "cell_type": "code",
   "execution_count": null,
   "metadata": {},
   "outputs": [],
   "source": [
    "# 1.- definir la variable simbólica"
   ]
  },
  {
   "cell_type": "code",
   "execution_count": null,
   "metadata": {},
   "outputs": [],
   "source": [
    "# 2.- Definir la función"
   ]
  },
  {
   "cell_type": "code",
   "execution_count": null,
   "metadata": {},
   "outputs": [],
   "source": [
    "# 3.- Derivar la función"
   ]
  },
  {
   "cell_type": "code",
   "execution_count": null,
   "metadata": {},
   "outputs": [],
   "source": [
    "# 4.- Encontrar los puntos críticos"
   ]
  },
  {
   "cell_type": "code",
   "execution_count": null,
   "metadata": {},
   "outputs": [],
   "source": [
    "# 5.- Probar el criterio de la segunda derivada para ver\n",
    "#     si el pto crítico es mínimo o máximo relativo\n",
    "\n"
   ]
  },
  {
   "cell_type": "markdown",
   "metadata": {},
   "source": []
  },
  {
   "cell_type": "markdown",
   "metadata": {},
   "source": [
    "## 3. Método para determinar extremos absolutos de una función continua y=f(x) en [a,b] \n",
    "\n",
    "- Determinar todos los valores críticos $c_1, c_2, c_3, \\dots, c_n$ en $(a,b)$.\n",
    "- Evaluar $f$ en todos los valores críticos y en los extremos $x=a$ y $x=b$.\n",
    "- El más grande y el más pequeño de los valores de la lista $f(a), f(b), f(c_1), f(c_2), \\dots, f(c_n)$ son el máximo absoluto y el mínimo absoluto, respectivamente, de f en el intervalo [a,b]."
   ]
  },
  {
   "cell_type": "markdown",
   "metadata": {
    "collapsed": true
   },
   "source": [
    "### Ejemplo\n",
    "\n",
    "Determinar los extremos absolutos de $f(x)=x^2-6x$ en $\\left[0,5\\right]$.\n",
    "\n",
    "Obtenemos los puntos críticos de $f$ en $\\left[0,5\\right]$:"
   ]
  },
  {
   "cell_type": "code",
   "execution_count": 95,
   "metadata": {},
   "outputs": [],
   "source": [
    "# Definimos f\n",
    "def f(x):\n",
    "    return x**2 - 6*x"
   ]
  },
  {
   "cell_type": "code",
   "execution_count": 96,
   "metadata": {},
   "outputs": [
    {
     "data": {
      "text/latex": [
       "$\\displaystyle x^{2} - 6 x$"
      ],
      "text/plain": [
       " 2      \n",
       "x  - 6⋅x"
      ]
     },
     "execution_count": 96,
     "metadata": {},
     "output_type": "execute_result"
    }
   ],
   "source": [
    "f(x)"
   ]
  },
  {
   "cell_type": "code",
   "execution_count": 97,
   "metadata": {},
   "outputs": [
    {
     "data": {
      "text/latex": [
       "$\\displaystyle 2 x - 6$"
      ],
      "text/plain": [
       "2⋅x - 6"
      ]
     },
     "execution_count": 97,
     "metadata": {},
     "output_type": "execute_result"
    }
   ],
   "source": [
    "# Derivamos f\n",
    "df = sym.diff(f(x),x)\n",
    "df"
   ]
  },
  {
   "cell_type": "code",
   "execution_count": 98,
   "metadata": {},
   "outputs": [
    {
     "data": {
      "text/latex": [
       "$\\displaystyle \\left[ 3\\right]$"
      ],
      "text/plain": [
       "[3]"
      ]
     },
     "execution_count": 98,
     "metadata": {},
     "output_type": "execute_result"
    }
   ],
   "source": [
    "# Resolver la ecuación f'(x)=0 para encontrar puntos críticos\n",
    "p_c = sym.solve(df,x)\n",
    "p_c"
   ]
  },
  {
   "cell_type": "code",
   "execution_count": 99,
   "metadata": {},
   "outputs": [
    {
     "data": {
      "text/latex": [
       "$\\displaystyle 3$"
      ],
      "text/plain": [
       "3"
      ]
     },
     "execution_count": 99,
     "metadata": {},
     "output_type": "execute_result"
    }
   ],
   "source": [
    "p_c[0]"
   ]
  },
  {
   "cell_type": "markdown",
   "metadata": {},
   "source": [
    "Evaluamos $f$ en los extremos y en los puntos críticos:"
   ]
  },
  {
   "cell_type": "code",
   "execution_count": 100,
   "metadata": {},
   "outputs": [],
   "source": [
    "#Extremos de la función [0, 5]\n",
    "a=0\n",
    "b=5"
   ]
  },
  {
   "cell_type": "code",
   "execution_count": 101,
   "metadata": {},
   "outputs": [
    {
     "data": {
      "text/latex": [
       "$\\displaystyle \\left( -9, \\  0, \\  -5\\right)$"
      ],
      "text/plain": [
       "(-9, 0, -5)"
      ]
     },
     "execution_count": 101,
     "metadata": {},
     "output_type": "execute_result"
    }
   ],
   "source": [
    "f(p_c[0]), f(a), f(b)"
   ]
  },
  {
   "cell_type": "code",
   "execution_count": null,
   "metadata": {},
   "outputs": [],
   "source": [
    "# realizar un pequeño código para obtener los puntos minimos y máximos de la funcion definida en un intervalo\n",
    "list_eval = [p_c[0], a,b]\n",
    "f_list = f(list_eval)\n",
    "\n",
    "y_eval = f_list.sort()\n",
    "x_eval_ind = f_list.argsort()\n",
    "x_eval = list_eval(x_eval_ind)\n"
   ]
  },
  {
   "cell_type": "markdown",
   "metadata": {},
   "source": [
    "Concluimos que el máximo absoluto de $f$ en $\\left[0,5\\right]$ es $0$ y se alcanza en $x=0$, y que el mínimo absoluto es $-9$ y se alcanza en $x=3$."
   ]
  },
  {
   "cell_type": "code",
   "execution_count": 102,
   "metadata": {},
   "outputs": [],
   "source": [
    "x_num = np.linspace(0,5)"
   ]
  },
  {
   "cell_type": "code",
   "execution_count": 105,
   "metadata": {},
   "outputs": [
    {
     "data": {
      "image/png": "[encoded data removed]",
      "text/plain": [
       "<Figure size 432x288 with 1 Axes>"
      ]
     },
     "metadata": {
      "needs_background": "light"
     },
     "output_type": "display_data"
    }
   ],
   "source": [
    "# graficar\n",
    "plt.figure(figsize=(6,4))\n",
    "plt.plot(x_num, f(x_num), 'k', lw=2, label='$f(x)=x^2 - 6x$')\n",
    "\n",
    "plt.plot(p_c[0],f(p_c[0]), 'ro', ms=10,\n",
    "        label=f'punto crítico: {p_c[0], f(p_c[0])}')\n",
    "\n",
    "plt.plot(0,f(0), 'go', ms=10,\n",
    "        label=f'extremo de la función: {0, f(0)}')\n",
    "plt.plot(5,f(5), 'go', ms=10,\n",
    "        label=f'extremo de la función: {5, f(5)}')\n",
    "\n",
    "plt.xlabel('$x$')\n",
    "plt.ylabel('$y$')\n",
    "plt.legend(loc='best')\n",
    "plt.grid()"
   ]
  },
  {
   "cell_type": "markdown",
   "metadata": {},
   "source": [
    "### Actividad\n",
    "Determinar los valores extremos absolutos de $h(x)=x^3-3x$ en $\\left[-2.2,1.8\\right]$, usando `sympy`. Mostrar en una gráfica."
   ]
  },
  {
   "cell_type": "code",
   "execution_count": 106,
   "metadata": {},
   "outputs": [
    {
     "data": {
      "text/latex": [
       "$\\displaystyle x$"
      ],
      "text/plain": [
       "x"
      ]
     },
     "execution_count": 106,
     "metadata": {},
     "output_type": "execute_result"
    }
   ],
   "source": [
    "sym.var('x')"
   ]
  },
  {
   "cell_type": "code",
   "execution_count": 107,
   "metadata": {},
   "outputs": [],
   "source": [
    "#definimos la función\n",
    "def h(x):\n",
    "    return x**3 - 3*x"
   ]
  },
  {
   "cell_type": "code",
   "execution_count": 108,
   "metadata": {},
   "outputs": [
    {
     "data": {
      "text/latex": [
       "$\\displaystyle x^{3} - 3 x$"
      ],
      "text/plain": [
       " 3      \n",
       "x  - 3⋅x"
      ]
     },
     "execution_count": 108,
     "metadata": {},
     "output_type": "execute_result"
    }
   ],
   "source": [
    "h(x)"
   ]
  },
  {
   "cell_type": "code",
   "execution_count": 109,
   "metadata": {},
   "outputs": [
    {
     "data": {
      "text/latex": [
       "$\\displaystyle 3 x^{2} - 3$"
      ],
      "text/plain": [
       "   2    \n",
       "3⋅x  - 3"
      ]
     },
     "execution_count": 109,
     "metadata": {},
     "output_type": "execute_result"
    }
   ],
   "source": [
    "# derivar h(x)\n",
    "dh = sym.diff(h(x),x)\n",
    "dh\n"
   ]
  },
  {
   "cell_type": "code",
   "execution_count": 111,
   "metadata": {},
   "outputs": [
    {
     "data": {
      "text/latex": [
       "$\\displaystyle \\left[ -1, \\  1\\right]$"
      ],
      "text/plain": [
       "[-1, 1]"
      ]
     },
     "execution_count": 111,
     "metadata": {},
     "output_type": "execute_result"
    }
   ],
   "source": [
    "#Resolver la ecuacion dh=0, encontrar los pc\n",
    "p_c = sym.solve(dh,x)\n",
    "p_c"
   ]
  },
  {
   "cell_type": "code",
   "execution_count": 112,
   "metadata": {},
   "outputs": [
    {
     "data": {
      "text/latex": [
       "$\\displaystyle \\left( -1, \\  1\\right)$"
      ],
      "text/plain": [
       "(-1, 1)"
      ]
     },
     "execution_count": 112,
     "metadata": {},
     "output_type": "execute_result"
    }
   ],
   "source": [
    "p_c[0], p_c[1]"
   ]
  },
  {
   "cell_type": "code",
   "execution_count": 113,
   "metadata": {},
   "outputs": [],
   "source": [
    "# El intervalo [a,b]\n",
    "a=-2.2\n",
    "b=1.8"
   ]
  },
  {
   "cell_type": "code",
   "execution_count": 114,
   "metadata": {},
   "outputs": [
    {
     "data": {
      "text/latex": [
       "$\\displaystyle \\left( 2, \\  -2, \\  -4.048, \\  0.432\\right)$"
      ],
      "text/plain": [
       "(2, -2, -4.048000000000003, 0.4320000000000004)"
      ]
     },
     "execution_count": 114,
     "metadata": {},
     "output_type": "execute_result"
    }
   ],
   "source": [
    "#Evaluar h(c1), h(c2), h(a), h(b)\n",
    "# [a,b] = [-2.2, 1.8]\n",
    "h(p_c[0]), h(p_c[1]), h(a), h(b)"
   ]
  },
  {
   "cell_type": "code",
   "execution_count": null,
   "metadata": {},
   "outputs": [],
   "source": [
    "# el valor mínimo se alcanza en: a, h(a) = (-2.2,-4.048)\n",
    "# el valor máximo se alcanza en: p_c[0], h(p_c[0]) = (-1,2) "
   ]
  },
  {
   "cell_type": "code",
   "execution_count": 115,
   "metadata": {},
   "outputs": [
    {
     "data": {
      "text/plain": [
       "array([-2.2       , -2.11836735, -2.03673469, -1.95510204, -1.87346939,\n",
       "       -1.79183673, -1.71020408, -1.62857143, -1.54693878, -1.46530612,\n",
       "       -1.38367347, -1.30204082, -1.22040816, -1.13877551, -1.05714286,\n",
       "       -0.9755102 , -0.89387755, -0.8122449 , -0.73061224, -0.64897959,\n",
       "       -0.56734694, -0.48571429, -0.40408163, -0.32244898, -0.24081633,\n",
       "       -0.15918367, -0.07755102,  0.00408163,  0.08571429,  0.16734694,\n",
       "        0.24897959,  0.33061224,  0.4122449 ,  0.49387755,  0.5755102 ,\n",
       "        0.65714286,  0.73877551,  0.82040816,  0.90204082,  0.98367347,\n",
       "        1.06530612,  1.14693878,  1.22857143,  1.31020408,  1.39183673,\n",
       "        1.47346939,  1.55510204,  1.63673469,  1.71836735,  1.8       ])"
      ]
     },
     "execution_count": 115,
     "metadata": {},
     "output_type": "execute_result"
    }
   ],
   "source": [
    "x_num = np.linspace(a,b)\n",
    "x_num"
   ]
  },
  {
   "cell_type": "code",
   "execution_count": 116,
   "metadata": {},
   "outputs": [
    {
     "data": {
      "image/png": "[encoded data removed]",
      "text/plain": [
       "<Figure size 432x288 with 1 Axes>"
      ]
     },
     "metadata": {
      "needs_background": "light"
     },
     "output_type": "display_data"
    }
   ],
   "source": [
    "#Graficar\n",
    "plt.figure(figsize=(6,4))\n",
    "plt.plot(x_num, h(x_num), 'k', lw=2, label='$h(x)=x^3 - 3x$')\n",
    "\n",
    "plt.plot(a,h(a), 'ro', ms=10,\n",
    "        label=f'Mínimo: {a, h(a)}')\n",
    "\n",
    "plt.plot(p_c[0],h(p_c[0]), 'go', ms=10,\n",
    "        label=f'Máximo: {p_c[0], h(p_c[0])}')\n",
    "\n",
    "plt.xlabel('$x$')\n",
    "plt.ylabel('$y$')\n",
    "plt.legend(loc='best')\n",
    "plt.grid()"
   ]
  },
  {
   "cell_type": "markdown",
   "metadata": {},
   "source": [
    "### En varias variables...\n",
    "\n",
    "El procedimiento es análogo. \n",
    "\n",
    "Si una función $f:\\mathbb{R}^n\\to\\mathbb{R}$ alcanza un máximo o mínimo local en $\\boldsymbol{x}=\\boldsymbol{c}\\in\\mathbb{R}^n$, y $f$ es diferenciable en el punto $\\boldsymbol{x}=\\boldsymbol{c}$, entonces $\\left.\\frac{\\partial f}{\\partial \\boldsymbol{x}}\\right|_{\\boldsymbol{x}=\\boldsymbol{c}}=\\boldsymbol{0}$ (todas las derivadas parciales en el punto $\\boldsymbol{x}=\\boldsymbol{c}$ son cero).\n",
    "\n",
    "**Criterio de la segunda derivada:** para ver si es máximo o mínimo, se toma la segunda derivada (matriz jacobiana) y se verifica definición negativa o positiva, respectivamente.\n",
    "\n",
    "Si se restringe a cierta región, hay ciertas técnicas. La más general, pero también la más compleja es la de **multiplicadores de Lagrange**."
   ]
  },
  {
   "cell_type": "markdown",
   "metadata": {},
   "source": [
    "**Ejemplo:** hacer a mano a la vez para corroborar..."
   ]
  },
  {
   "cell_type": "code",
   "execution_count": null,
   "metadata": {},
   "outputs": [],
   "source": []
  },
  {
   "cell_type": "code",
   "execution_count": null,
   "metadata": {},
   "outputs": [],
   "source": []
  },
  {
   "cell_type": "markdown",
   "metadata": {},
   "source": [
    "### Problema:\n",
    "Se desea construir una lata cilíndrica de 250 $ml$ ¿Cuál es el radio de la base ($r$) y la altura del cilíndro ($h$) para minimizar la superficie?"
   ]
  },
  {
   "cell_type": "markdown",
   "metadata": {},
   "source": [
    "1. Identificar qué se quiere minimizar (o maximizar):\n",
    "\n",
    "    **Solución**\n",
    "    \n",
    "    Minimizar la superficie de un cilíndro ($S$).\n",
    "    \n",
    "    $$\n",
    "    S=A_B+A_R,\n",
    "    $$\n",
    "    donde $A_B$ es el área de la base y $A_R$ es el área de la zona recta.\n",
    "    $$\n",
    "    A_B=\\pi r^2,\n",
    "    $$\n",
    "    $$\n",
    "    A_R=h \\pi2r.\n",
    "    $$\n",
    "    \n",
    "    Entonces $S=\\pi r^2+h\\pi2r$.\n",
    "    \n",
    "2. Incluir las restricciones:\n",
    "\n",
    "    **Solución**\n",
    "    \n",
    "    El volumen ($V$) debe ser 250 $ml$=250 $cm^3$.\n",
    "    \n",
    "    $$\n",
    "    V=\\pi r^2h=250.\n",
    "    $$\n",
    "    \n",
    "    Por lo que $h=\\frac{250}{\\pi r^2}$. Sustituyendo en $S$\n",
    "    $$\n",
    "    S=\\pi r^2+\\frac{250}{\\pi r^2}\\pi2r,\n",
    "    $$\n",
    "    simplificando, tenemos\n",
    "    $$\n",
    "    S=\\pi r^2+\\frac{500}{r}.\n",
    "    $$"
   ]
  },
  {
   "cell_type": "code",
   "execution_count": null,
   "metadata": {},
   "outputs": [],
   "source": []
  },
  {
   "cell_type": "code",
   "execution_count": null,
   "metadata": {},
   "outputs": [],
   "source": []
  },
  {
   "cell_type": "markdown",
   "metadata": {},
   "source": [
    "# Anuncios\n",
    "\n",
    "## 1. [Curso gratis sugerido](https://www.kaggle.com/learn/python)\n"
   ]
  }
 ],
 "metadata": {
  "kernelspec": {
   "display_name": "Python 3 (ipykernel)",
   "language": "python",
   "name": "python3"
  },
  "language_info": {
   "codemirror_mode": {
    "name": "ipython",
    "version": 3
   },
   "file_extension": ".py",
   "mimetype": "text/x-python",
   "name": "python",
   "nbconvert_exporter": "python",
   "pygments_lexer": "ipython3",
   "version": "3.8.8"
  }
 },
 "nbformat": 4,
 "nbformat_minor": 2
}
